{
  "nbformat": 4,
  "nbformat_minor": 0,
  "metadata": {
    "colab": {
      "name": "thuctap_vnpt.ipynb",
      "provenance": [],
      "collapsed_sections": [],
      "include_colab_link": true
    },
    "kernelspec": {
      "name": "python3",
      "display_name": "Python 3"
    },
    "language_info": {
      "name": "python"
    }
  },
  "cells": [
    {
      "cell_type": "markdown",
      "metadata": {
        "id": "view-in-github",
        "colab_type": "text"
      },
      "source": [
        "<a href=\"https://colab.research.google.com/github/huongd17at089/income_prediction/blob/master/thuctap_vnpt.ipynb\" target=\"_parent\"><img src=\"https://colab.research.google.com/assets/colab-badge.svg\" alt=\"Open In Colab\"/></a>"
      ]
    },
    {
      "cell_type": "code",
      "metadata": {
        "id": "RFiBFtzQqnV2"
      },
      "source": [
        "import pandas as pd\n",
        "\n",
        "data = pd.read_csv('./drive/MyDrive/Intern_VNPT/income_data.csv')"
      ],
      "execution_count": null,
      "outputs": []
    },
    {
      "cell_type": "code",
      "metadata": {
        "id": "yLcNW8B-s6kG"
      },
      "source": [
        "# chọn những cột có ích\n",
        "sub = data[['age', 'workclass', 'education', 'educational.num', 'marital.status', 'race', 'gender', 'hours.per.week', 'income']]"
      ],
      "execution_count": null,
      "outputs": []
    },
    {
      "cell_type": "code",
      "metadata": {
        "id": "oLjc_QX2WqyH"
      },
      "source": [
        "# xóa hàng lặp lại\n",
        "sub = sub.drop_duplicates()"
      ],
      "execution_count": null,
      "outputs": []
    },
    {
      "cell_type": "code",
      "metadata": {
        "id": "7x83eaBpVu4U"
      },
      "source": [
        "def binning(col, freq):\n",
        "  cut = pd.qcut(col, q=freq, precision=0)\n",
        "\n",
        "  # rename bins\n",
        "  renamed_cut = cut.astype(str).str.strip('()[]').str.replace(', ', ' - ')\n",
        "  return renamed_cut"
      ],
      "execution_count": null,
      "outputs": []
    },
    {
      "cell_type": "code",
      "metadata": {
        "id": "qD7w9uGdWcyD"
      },
      "source": [
        "# rời rạc hóa biến liên tục age\n",
        "age_bins = binning(sub['age'], 8)\n",
        "sub['age'] = age_bins"
      ],
      "execution_count": null,
      "outputs": []
    },
    {
      "cell_type": "code",
      "metadata": {
        "id": "0shYdWZvW6o5"
      },
      "source": [
        "# rời rạc hóa biến liên tục hours.per.week\n",
        "hpw_bins = binning(sub['hours.per.week'], 4)\n",
        "sub['hours.per.week'] = hpw_bins"
      ],
      "execution_count": null,
      "outputs": []
    },
    {
      "cell_type": "code",
      "metadata": {
        "id": "xy8AM6C5W2eU"
      },
      "source": [
        "# xuất ra file csv\n",
        "sub.to_csv('./drive/MyDrive/Intern_VNPT/processed_data.csv')"
      ],
      "execution_count": null,
      "outputs": []
    }
  ]
}