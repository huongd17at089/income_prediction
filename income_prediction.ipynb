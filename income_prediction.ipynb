{
  "nbformat": 4,
  "nbformat_minor": 0,
  "metadata": {
    "colab": {
      "name": "income_prediction.ipynb",
      "provenance": [],
      "authorship_tag": "ABX9TyO7p+ZaE5QxQXmosX3/+MgH"
    },
    "kernelspec": {
      "name": "python3",
      "display_name": "Python 3"
    },
    "language_info": {
      "name": "python"
    }
  },
  "cells": [
    {
      "cell_type": "code",
      "metadata": {
        "id": "SqAbaxRhdgnA"
      },
      "source": [
        "from google.colab import drive\n",
        "drive.mount('/content/drive', force_remount=True)"
      ],
      "execution_count": null,
      "outputs": []
    },
    {
      "cell_type": "code",
      "metadata": {
        "id": "WHrmoKcpgSBG"
      },
      "source": [
        "//"
      ],
      "execution_count": null,
      "outputs": []
    }
  ]
}