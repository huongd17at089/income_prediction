{
  "nbformat": 4,
  "nbformat_minor": 0,
  "metadata": {
    "colab": {
      "name": "income_prediction.ipynb",
      "provenance": []
    },
    "kernelspec": {
      "name": "python3",
      "display_name": "Python 3"
    },
    "language_info": {
      "name": "python"
    }
  },
  "cells": [
    {
      "cell_type": "markdown",
      "metadata": {
        "id": "jKUvTlcKo-oO"
      },
      "source": [
        "# Bước 0:"
      ]
    },
    {
      "cell_type": "code",
      "metadata": {
        "id": "WHrmoKcpgSBG"
      },
      "source": [
        "import pandas as pd\n",
        "url = \"https://raw.githubusercontent.com/huongd17at089/income_prediction/master/data_adult.csv\"\n",
        "df = pd.read_csv(url)"
      ],
      "execution_count": 2,
      "outputs": []
    },
    {
      "cell_type": "code",
      "metadata": {
        "id": "6YzOdVuIpKcB",
        "colab": {
          "base_uri": "https://localhost:8080/",
          "height": 202
        },
        "outputId": "2cc78c35-d617-4665-a37d-9da0e6d351bd"
      },
      "source": [
        "df.head(5)"
      ],
      "execution_count": 45,
      "outputs": [
        {
          "output_type": "execute_result",
          "data": {
            "text/html": [
              "<div>\n",
              "<style scoped>\n",
              "    .dataframe tbody tr th:only-of-type {\n",
              "        vertical-align: middle;\n",
              "    }\n",
              "\n",
              "    .dataframe tbody tr th {\n",
              "        vertical-align: top;\n",
              "    }\n",
              "\n",
              "    .dataframe thead th {\n",
              "        text-align: right;\n",
              "    }\n",
              "</style>\n",
              "<table border=\"1\" class=\"dataframe\">\n",
              "  <thead>\n",
              "    <tr style=\"text-align: right;\">\n",
              "      <th></th>\n",
              "      <th>Unnamed: 0</th>\n",
              "      <th>X</th>\n",
              "      <th>age</th>\n",
              "      <th>workclass</th>\n",
              "      <th>education</th>\n",
              "      <th>educational.num</th>\n",
              "      <th>marital.status</th>\n",
              "      <th>race</th>\n",
              "      <th>gender</th>\n",
              "      <th>hours.per.week</th>\n",
              "      <th>income</th>\n",
              "    </tr>\n",
              "  </thead>\n",
              "  <tbody>\n",
              "    <tr>\n",
              "      <th>0</th>\n",
              "      <td>1</td>\n",
              "      <td>1</td>\n",
              "      <td>25</td>\n",
              "      <td>Private</td>\n",
              "      <td>11th</td>\n",
              "      <td>7</td>\n",
              "      <td>Never-married</td>\n",
              "      <td>Black</td>\n",
              "      <td>Male</td>\n",
              "      <td>40</td>\n",
              "      <td>&lt;=50K</td>\n",
              "    </tr>\n",
              "    <tr>\n",
              "      <th>1</th>\n",
              "      <td>2</td>\n",
              "      <td>2</td>\n",
              "      <td>38</td>\n",
              "      <td>Private</td>\n",
              "      <td>HS-grad</td>\n",
              "      <td>9</td>\n",
              "      <td>Married-civ-spouse</td>\n",
              "      <td>White</td>\n",
              "      <td>Male</td>\n",
              "      <td>50</td>\n",
              "      <td>&lt;=50K</td>\n",
              "    </tr>\n",
              "    <tr>\n",
              "      <th>2</th>\n",
              "      <td>3</td>\n",
              "      <td>3</td>\n",
              "      <td>28</td>\n",
              "      <td>Local-gov</td>\n",
              "      <td>Assoc-acdm</td>\n",
              "      <td>12</td>\n",
              "      <td>Married-civ-spouse</td>\n",
              "      <td>White</td>\n",
              "      <td>Male</td>\n",
              "      <td>40</td>\n",
              "      <td>&gt;50K</td>\n",
              "    </tr>\n",
              "    <tr>\n",
              "      <th>3</th>\n",
              "      <td>4</td>\n",
              "      <td>4</td>\n",
              "      <td>44</td>\n",
              "      <td>Private</td>\n",
              "      <td>Some-college</td>\n",
              "      <td>10</td>\n",
              "      <td>Married-civ-spouse</td>\n",
              "      <td>Black</td>\n",
              "      <td>Male</td>\n",
              "      <td>40</td>\n",
              "      <td>&gt;50K</td>\n",
              "    </tr>\n",
              "    <tr>\n",
              "      <th>4</th>\n",
              "      <td>5</td>\n",
              "      <td>5</td>\n",
              "      <td>34</td>\n",
              "      <td>Private</td>\n",
              "      <td>10th</td>\n",
              "      <td>6</td>\n",
              "      <td>Never-married</td>\n",
              "      <td>White</td>\n",
              "      <td>Male</td>\n",
              "      <td>30</td>\n",
              "      <td>&lt;=50K</td>\n",
              "    </tr>\n",
              "  </tbody>\n",
              "</table>\n",
              "</div>"
            ],
            "text/plain": [
              "   Unnamed: 0  X  age  workclass  ...   race  gender hours.per.week income\n",
              "0           1  1   25    Private  ...  Black    Male             40  <=50K\n",
              "1           2  2   38    Private  ...  White    Male             50  <=50K\n",
              "2           3  3   28  Local-gov  ...  White    Male             40   >50K\n",
              "3           4  4   44    Private  ...  Black    Male             40   >50K\n",
              "4           5  5   34    Private  ...  White    Male             30  <=50K\n",
              "\n",
              "[5 rows x 11 columns]"
            ]
          },
          "metadata": {
            "tags": []
          },
          "execution_count": 45
        }
      ]
    },
    {
      "cell_type": "code",
      "metadata": {
        "id": "bnsn38ezoRmx",
        "outputId": "a71cb672-0bbf-484f-94f5-4b52f5e4bf60",
        "colab": {
          "base_uri": "https://localhost:8080/",
          "height": 202
        }
      },
      "source": [
        "df.tail(5)"
      ],
      "execution_count": 46,
      "outputs": [
        {
          "output_type": "execute_result",
          "data": {
            "text/html": [
              "<div>\n",
              "<style scoped>\n",
              "    .dataframe tbody tr th:only-of-type {\n",
              "        vertical-align: middle;\n",
              "    }\n",
              "\n",
              "    .dataframe tbody tr th {\n",
              "        vertical-align: top;\n",
              "    }\n",
              "\n",
              "    .dataframe thead th {\n",
              "        text-align: right;\n",
              "    }\n",
              "</style>\n",
              "<table border=\"1\" class=\"dataframe\">\n",
              "  <thead>\n",
              "    <tr style=\"text-align: right;\">\n",
              "      <th></th>\n",
              "      <th>Unnamed: 0</th>\n",
              "      <th>X</th>\n",
              "      <th>age</th>\n",
              "      <th>workclass</th>\n",
              "      <th>education</th>\n",
              "      <th>educational.num</th>\n",
              "      <th>marital.status</th>\n",
              "      <th>race</th>\n",
              "      <th>gender</th>\n",
              "      <th>hours.per.week</th>\n",
              "      <th>income</th>\n",
              "    </tr>\n",
              "  </thead>\n",
              "  <tbody>\n",
              "    <tr>\n",
              "      <th>46028</th>\n",
              "      <td>46029</td>\n",
              "      <td>46029</td>\n",
              "      <td>27</td>\n",
              "      <td>Private</td>\n",
              "      <td>Assoc-acdm</td>\n",
              "      <td>12</td>\n",
              "      <td>Married-civ-spouse</td>\n",
              "      <td>White</td>\n",
              "      <td>Female</td>\n",
              "      <td>38</td>\n",
              "      <td>&lt;=50K</td>\n",
              "    </tr>\n",
              "    <tr>\n",
              "      <th>46029</th>\n",
              "      <td>46030</td>\n",
              "      <td>46030</td>\n",
              "      <td>40</td>\n",
              "      <td>Private</td>\n",
              "      <td>HS-grad</td>\n",
              "      <td>9</td>\n",
              "      <td>Married-civ-spouse</td>\n",
              "      <td>White</td>\n",
              "      <td>Male</td>\n",
              "      <td>40</td>\n",
              "      <td>&gt;50K</td>\n",
              "    </tr>\n",
              "    <tr>\n",
              "      <th>46030</th>\n",
              "      <td>46031</td>\n",
              "      <td>46031</td>\n",
              "      <td>58</td>\n",
              "      <td>Private</td>\n",
              "      <td>HS-grad</td>\n",
              "      <td>9</td>\n",
              "      <td>Widowed</td>\n",
              "      <td>White</td>\n",
              "      <td>Female</td>\n",
              "      <td>40</td>\n",
              "      <td>&lt;=50K</td>\n",
              "    </tr>\n",
              "    <tr>\n",
              "      <th>46031</th>\n",
              "      <td>46032</td>\n",
              "      <td>46032</td>\n",
              "      <td>22</td>\n",
              "      <td>Private</td>\n",
              "      <td>HS-grad</td>\n",
              "      <td>9</td>\n",
              "      <td>Never-married</td>\n",
              "      <td>White</td>\n",
              "      <td>Male</td>\n",
              "      <td>20</td>\n",
              "      <td>&lt;=50K</td>\n",
              "    </tr>\n",
              "    <tr>\n",
              "      <th>46032</th>\n",
              "      <td>46033</td>\n",
              "      <td>46033</td>\n",
              "      <td>52</td>\n",
              "      <td>Self-emp-inc</td>\n",
              "      <td>HS-grad</td>\n",
              "      <td>9</td>\n",
              "      <td>Married-civ-spouse</td>\n",
              "      <td>White</td>\n",
              "      <td>Female</td>\n",
              "      <td>40</td>\n",
              "      <td>&gt;50K</td>\n",
              "    </tr>\n",
              "  </tbody>\n",
              "</table>\n",
              "</div>"
            ],
            "text/plain": [
              "       Unnamed: 0      X  age  ...  gender hours.per.week  income\n",
              "46028       46029  46029   27  ...  Female             38   <=50K\n",
              "46029       46030  46030   40  ...    Male             40    >50K\n",
              "46030       46031  46031   58  ...  Female             40   <=50K\n",
              "46031       46032  46032   22  ...    Male             20   <=50K\n",
              "46032       46033  46033   52  ...  Female             40    >50K\n",
              "\n",
              "[5 rows x 11 columns]"
            ]
          },
          "metadata": {
            "tags": []
          },
          "execution_count": 46
        }
      ]
    },
    {
      "cell_type": "code",
      "metadata": {
        "colab": {
          "base_uri": "https://localhost:8080/"
        },
        "id": "jfJOfA1HSgiL",
        "outputId": "968e1e26-40fc-42a5-a92b-b0e68a4110b1"
      },
      "source": [
        "df.drop([\"X\", \"Unnamed: 0\"], axis=1)\n",
        "df.info()"
      ],
      "execution_count": 18,
      "outputs": [
        {
          "output_type": "stream",
          "text": [
            "<class 'pandas.core.frame.DataFrame'>\n",
            "RangeIndex: 46033 entries, 0 to 46032\n",
            "Data columns (total 11 columns):\n",
            " #   Column           Non-Null Count  Dtype \n",
            "---  ------           --------------  ----- \n",
            " 0   Unnamed: 0       46033 non-null  int64 \n",
            " 1   X                46033 non-null  int64 \n",
            " 2   age              46033 non-null  int64 \n",
            " 3   workclass        46033 non-null  object\n",
            " 4   education        46033 non-null  object\n",
            " 5   educational.num  46033 non-null  int64 \n",
            " 6   marital.status   46033 non-null  object\n",
            " 7   race             46033 non-null  object\n",
            " 8   gender           46033 non-null  object\n",
            " 9   hours.per.week   46033 non-null  int64 \n",
            " 10  income           46033 non-null  object\n",
            "dtypes: int64(5), object(6)\n",
            "memory usage: 3.9+ MB\n"
          ],
          "name": "stdout"
        }
      ]
    },
    {
      "cell_type": "code",
      "metadata": {
        "colab": {
          "base_uri": "https://localhost:8080/"
        },
        "id": "268XHFjnXPCQ",
        "outputId": "f499b054-c106-4847-e5d4-8388785f2386"
      },
      "source": [
        "print(any(df.duplicated().tolist()))"
      ],
      "execution_count": 20,
      "outputs": [
        {
          "output_type": "stream",
          "text": [
            "False\n"
          ],
          "name": "stdout"
        }
      ]
    },
    {
      "cell_type": "code",
      "metadata": {
        "id": "RPgpe0dDS8I_"
      },
      "source": [
        "continuous_vars = [\"age\", \"educational.num\", \"hours.per.week\"]\n",
        "categorical_vars = [\"workclass\", \"education\", \"marital.status\", \"race\", \"gender\"]\n",
        "target = \"income\""
      ],
      "execution_count": 6,
      "outputs": []
    },
    {
      "cell_type": "code",
      "metadata": {
        "colab": {
          "base_uri": "https://localhost:8080/",
          "height": 202
        },
        "id": "UPA-kvbWUQNg",
        "outputId": "9ed02cd3-8991-474c-ee7b-21770ae7b06a"
      },
      "source": [
        "df1 = df[continuous_vars]\n",
        "df1.sample(5)"
      ],
      "execution_count": 9,
      "outputs": [
        {
          "output_type": "execute_result",
          "data": {
            "text/html": [
              "<div>\n",
              "<style scoped>\n",
              "    .dataframe tbody tr th:only-of-type {\n",
              "        vertical-align: middle;\n",
              "    }\n",
              "\n",
              "    .dataframe tbody tr th {\n",
              "        vertical-align: top;\n",
              "    }\n",
              "\n",
              "    .dataframe thead th {\n",
              "        text-align: right;\n",
              "    }\n",
              "</style>\n",
              "<table border=\"1\" class=\"dataframe\">\n",
              "  <thead>\n",
              "    <tr style=\"text-align: right;\">\n",
              "      <th></th>\n",
              "      <th>age</th>\n",
              "      <th>educational.num</th>\n",
              "      <th>hours.per.week</th>\n",
              "    </tr>\n",
              "  </thead>\n",
              "  <tbody>\n",
              "    <tr>\n",
              "      <th>34044</th>\n",
              "      <td>40</td>\n",
              "      <td>14</td>\n",
              "      <td>40</td>\n",
              "    </tr>\n",
              "    <tr>\n",
              "      <th>18799</th>\n",
              "      <td>21</td>\n",
              "      <td>10</td>\n",
              "      <td>40</td>\n",
              "    </tr>\n",
              "    <tr>\n",
              "      <th>22313</th>\n",
              "      <td>24</td>\n",
              "      <td>12</td>\n",
              "      <td>40</td>\n",
              "    </tr>\n",
              "    <tr>\n",
              "      <th>1632</th>\n",
              "      <td>26</td>\n",
              "      <td>9</td>\n",
              "      <td>25</td>\n",
              "    </tr>\n",
              "    <tr>\n",
              "      <th>43568</th>\n",
              "      <td>49</td>\n",
              "      <td>13</td>\n",
              "      <td>40</td>\n",
              "    </tr>\n",
              "  </tbody>\n",
              "</table>\n",
              "</div>"
            ],
            "text/plain": [
              "       age  educational.num  hours.per.week\n",
              "34044   40               14              40\n",
              "18799   21               10              40\n",
              "22313   24               12              40\n",
              "1632    26                9              25\n",
              "43568   49               13              40"
            ]
          },
          "metadata": {
            "tags": []
          },
          "execution_count": 9
        }
      ]
    },
    {
      "cell_type": "code",
      "metadata": {
        "colab": {
          "base_uri": "https://localhost:8080/",
          "height": 294
        },
        "id": "utMaq1nvUfg7",
        "outputId": "802ed760-8733-40f2-af03-1a595a676710"
      },
      "source": [
        "df1.describe()"
      ],
      "execution_count": 12,
      "outputs": [
        {
          "output_type": "execute_result",
          "data": {
            "text/html": [
              "<div>\n",
              "<style scoped>\n",
              "    .dataframe tbody tr th:only-of-type {\n",
              "        vertical-align: middle;\n",
              "    }\n",
              "\n",
              "    .dataframe tbody tr th {\n",
              "        vertical-align: top;\n",
              "    }\n",
              "\n",
              "    .dataframe thead th {\n",
              "        text-align: right;\n",
              "    }\n",
              "</style>\n",
              "<table border=\"1\" class=\"dataframe\">\n",
              "  <thead>\n",
              "    <tr style=\"text-align: right;\">\n",
              "      <th></th>\n",
              "      <th>age</th>\n",
              "      <th>educational.num</th>\n",
              "      <th>hours.per.week</th>\n",
              "    </tr>\n",
              "  </thead>\n",
              "  <tbody>\n",
              "    <tr>\n",
              "      <th>count</th>\n",
              "      <td>46033.000000</td>\n",
              "      <td>46033.000000</td>\n",
              "      <td>46033.000000</td>\n",
              "    </tr>\n",
              "    <tr>\n",
              "      <th>mean</th>\n",
              "      <td>38.556601</td>\n",
              "      <td>10.128929</td>\n",
              "      <td>40.948407</td>\n",
              "    </tr>\n",
              "    <tr>\n",
              "      <th>std</th>\n",
              "      <td>13.204268</td>\n",
              "      <td>2.564064</td>\n",
              "      <td>12.011069</td>\n",
              "    </tr>\n",
              "    <tr>\n",
              "      <th>min</th>\n",
              "      <td>17.000000</td>\n",
              "      <td>1.000000</td>\n",
              "      <td>1.000000</td>\n",
              "    </tr>\n",
              "    <tr>\n",
              "      <th>25%</th>\n",
              "      <td>28.000000</td>\n",
              "      <td>9.000000</td>\n",
              "      <td>40.000000</td>\n",
              "    </tr>\n",
              "    <tr>\n",
              "      <th>50%</th>\n",
              "      <td>37.000000</td>\n",
              "      <td>10.000000</td>\n",
              "      <td>40.000000</td>\n",
              "    </tr>\n",
              "    <tr>\n",
              "      <th>75%</th>\n",
              "      <td>47.000000</td>\n",
              "      <td>13.000000</td>\n",
              "      <td>45.000000</td>\n",
              "    </tr>\n",
              "    <tr>\n",
              "      <th>max</th>\n",
              "      <td>90.000000</td>\n",
              "      <td>16.000000</td>\n",
              "      <td>99.000000</td>\n",
              "    </tr>\n",
              "  </tbody>\n",
              "</table>\n",
              "</div>"
            ],
            "text/plain": [
              "                age  educational.num  hours.per.week\n",
              "count  46033.000000     46033.000000    46033.000000\n",
              "mean      38.556601        10.128929       40.948407\n",
              "std       13.204268         2.564064       12.011069\n",
              "min       17.000000         1.000000        1.000000\n",
              "25%       28.000000         9.000000       40.000000\n",
              "50%       37.000000        10.000000       40.000000\n",
              "75%       47.000000        13.000000       45.000000\n",
              "max       90.000000        16.000000       99.000000"
            ]
          },
          "metadata": {
            "tags": []
          },
          "execution_count": 12
        }
      ]
    },
    {
      "cell_type": "code",
      "metadata": {
        "colab": {
          "base_uri": "https://localhost:8080/",
          "height": 202
        },
        "id": "dF_Pmz-xVEDc",
        "outputId": "e9f0df94-7c0c-4bea-8239-9d28f7fb3bf6"
      },
      "source": [
        "df2 = df[categorical_vars]\n",
        "df2.sample(5)"
      ],
      "execution_count": 15,
      "outputs": [
        {
          "output_type": "execute_result",
          "data": {
            "text/html": [
              "<div>\n",
              "<style scoped>\n",
              "    .dataframe tbody tr th:only-of-type {\n",
              "        vertical-align: middle;\n",
              "    }\n",
              "\n",
              "    .dataframe tbody tr th {\n",
              "        vertical-align: top;\n",
              "    }\n",
              "\n",
              "    .dataframe thead th {\n",
              "        text-align: right;\n",
              "    }\n",
              "</style>\n",
              "<table border=\"1\" class=\"dataframe\">\n",
              "  <thead>\n",
              "    <tr style=\"text-align: right;\">\n",
              "      <th></th>\n",
              "      <th>workclass</th>\n",
              "      <th>education</th>\n",
              "      <th>marital.status</th>\n",
              "      <th>race</th>\n",
              "      <th>gender</th>\n",
              "    </tr>\n",
              "  </thead>\n",
              "  <tbody>\n",
              "    <tr>\n",
              "      <th>14042</th>\n",
              "      <td>Self-emp-not-inc</td>\n",
              "      <td>HS-grad</td>\n",
              "      <td>Married-civ-spouse</td>\n",
              "      <td>White</td>\n",
              "      <td>Male</td>\n",
              "    </tr>\n",
              "    <tr>\n",
              "      <th>16252</th>\n",
              "      <td>Self-emp-inc</td>\n",
              "      <td>Bachelors</td>\n",
              "      <td>Married-civ-spouse</td>\n",
              "      <td>White</td>\n",
              "      <td>Male</td>\n",
              "    </tr>\n",
              "    <tr>\n",
              "      <th>894</th>\n",
              "      <td>Private</td>\n",
              "      <td>HS-grad</td>\n",
              "      <td>Separated</td>\n",
              "      <td>White</td>\n",
              "      <td>Male</td>\n",
              "    </tr>\n",
              "    <tr>\n",
              "      <th>9664</th>\n",
              "      <td>Private</td>\n",
              "      <td>HS-grad</td>\n",
              "      <td>Married-civ-spouse</td>\n",
              "      <td>White</td>\n",
              "      <td>Male</td>\n",
              "    </tr>\n",
              "    <tr>\n",
              "      <th>38496</th>\n",
              "      <td>Private</td>\n",
              "      <td>Preschool</td>\n",
              "      <td>Married-civ-spouse</td>\n",
              "      <td>White</td>\n",
              "      <td>Male</td>\n",
              "    </tr>\n",
              "  </tbody>\n",
              "</table>\n",
              "</div>"
            ],
            "text/plain": [
              "              workclass  education      marital.status   race gender\n",
              "14042  Self-emp-not-inc    HS-grad  Married-civ-spouse  White   Male\n",
              "16252      Self-emp-inc  Bachelors  Married-civ-spouse  White   Male\n",
              "894             Private    HS-grad           Separated  White   Male\n",
              "9664            Private    HS-grad  Married-civ-spouse  White   Male\n",
              "38496           Private  Preschool  Married-civ-spouse  White   Male"
            ]
          },
          "metadata": {
            "tags": []
          },
          "execution_count": 15
        }
      ]
    },
    {
      "cell_type": "code",
      "metadata": {
        "colab": {
          "base_uri": "https://localhost:8080/"
        },
        "id": "ocUsWn2WXllr",
        "outputId": "e0779316-571a-4fc7-c274-7ec8f3659657"
      },
      "source": [
        "for var in categorical_vars:\n",
        "  info = pd.DataFrame()\n",
        "  info[\"Frequency\"] = df[var].value_counts()\n",
        "  info[\"Percentage\"] = info[\"Frequency\"]/df2.shape[0]*100\n",
        "  print(info)\n",
        "  print(info[info[\"Frequency\"] == max(info[\"Frequency\"])])\n",
        "  print(\"-----------------------------------------------------------\")\n"
      ],
      "execution_count": 44,
      "outputs": [
        {
          "output_type": "stream",
          "text": [
            "                  Frequency  Percentage\n",
            "Private               33906   73.655856\n",
            "Self-emp-not-inc       3862    8.389634\n",
            "Local-gov              3136    6.812504\n",
            "State-gov              1981    4.303434\n",
            "Self-emp-inc           1695    3.682141\n",
            "Federal-gov            1432    3.110812\n",
            "Without-pay              21    0.045619\n",
            "         Frequency  Percentage\n",
            "Private      33906   73.655856\n",
            "-----------------------------------------------------------\n",
            "              Frequency  Percentage\n",
            "HS-grad           14972   32.524493\n",
            "Some-college      10036   21.801751\n",
            "Bachelors          7772   16.883540\n",
            "Masters            2590    5.626398\n",
            "Assoc-voc          1978    4.296917\n",
            "11th               1631    3.543110\n",
            "Assoc-acdm         1529    3.321530\n",
            "10th               1239    2.691547\n",
            "7th-8th             844    1.833467\n",
            "Prof-school         810    1.759607\n",
            "9th                 687    1.492408\n",
            "12th                599    1.301240\n",
            "Doctorate           576    1.251276\n",
            "5th-6th             468    1.016662\n",
            "1st-4th             229    0.497469\n",
            "Preschool            73    0.158582\n",
            "         Frequency  Percentage\n",
            "HS-grad      14972   32.524493\n",
            "-----------------------------------------------------------\n",
            "                       Frequency  Percentage\n",
            "Married-civ-spouse         21451   46.599179\n",
            "Never-married              14875   32.313775\n",
            "Divorced                    6363   13.822692\n",
            "Separated                   1433    3.112984\n",
            "Widowed                     1296    2.815372\n",
            "Married-spouse-absent        583    1.266483\n",
            "Married-AF-spouse             32    0.069515\n",
            "                    Frequency  Percentage\n",
            "Married-civ-spouse      21451   46.599179\n",
            "-----------------------------------------------------------\n",
            "                    Frequency  Percentage\n",
            "White                   39444   85.686355\n",
            "Black                    4356    9.462777\n",
            "Asian-Pac-Islander       1423    3.091261\n",
            "Amer-Indian-Eskimo        435    0.944974\n",
            "Other                     375    0.814633\n",
            "       Frequency  Percentage\n",
            "White      39444   85.686355\n",
            "-----------------------------------------------------------\n",
            "        Frequency  Percentage\n",
            "Male        31114   67.590641\n",
            "Female      14919   32.409359\n",
            "      Frequency  Percentage\n",
            "Male      31114   67.590641\n",
            "-----------------------------------------------------------\n"
          ],
          "name": "stdout"
        }
      ]
    }
  ]
}