{
  "nbformat": 4,
  "nbformat_minor": 0,
  "metadata": {
    "colab": {
      "name": "income_prediction.ipynb",
      "provenance": [],
      "authorship_tag": "ABX9TyN+OjaJ1TWzomTHM//TGZIR"
    },
    "kernelspec": {
      "name": "python3",
      "display_name": "Python 3"
    },
    "language_info": {
      "name": "python"
    }
  },
  "cells": [
    {
      "cell_type": "markdown",
      "metadata": {
        "id": "jKUvTlcKo-oO"
      },
      "source": [
        "# Bước 0:"
      ]
    },
    {
      "cell_type": "code",
      "metadata": {
        "id": "WHrmoKcpgSBG"
      },
      "source": [
        "import pandas as pd\n",
        "url = \"https://raw.githubusercontent.com/huongd17at089/income_prediction/master/data_adult.csv\"\n",
        "df = pd.read_csv(url)"
      ],
      "execution_count": 5,
      "outputs": []
    },
    {
      "cell_type": "code",
      "metadata": {
        "id": "6YzOdVuIpKcB",
        "outputId": "c0bb6972-810a-4cc2-9cf9-b191656bdcf2",
        "colab": {
          "base_uri": "https://localhost:8080/",
          "height": 202
        }
      },
      "source": [
        "df.sample(5)"
      ],
      "execution_count": 6,
      "outputs": [
        {
          "output_type": "execute_result",
          "data": {
            "text/html": [
              "<div>\n",
              "<style scoped>\n",
              "    .dataframe tbody tr th:only-of-type {\n",
              "        vertical-align: middle;\n",
              "    }\n",
              "\n",
              "    .dataframe tbody tr th {\n",
              "        vertical-align: top;\n",
              "    }\n",
              "\n",
              "    .dataframe thead th {\n",
              "        text-align: right;\n",
              "    }\n",
              "</style>\n",
              "<table border=\"1\" class=\"dataframe\">\n",
              "  <thead>\n",
              "    <tr style=\"text-align: right;\">\n",
              "      <th></th>\n",
              "      <th>Unnamed: 0</th>\n",
              "      <th>X</th>\n",
              "      <th>age</th>\n",
              "      <th>workclass</th>\n",
              "      <th>education</th>\n",
              "      <th>educational.num</th>\n",
              "      <th>marital.status</th>\n",
              "      <th>race</th>\n",
              "      <th>gender</th>\n",
              "      <th>hours.per.week</th>\n",
              "      <th>income</th>\n",
              "    </tr>\n",
              "  </thead>\n",
              "  <tbody>\n",
              "    <tr>\n",
              "      <th>44910</th>\n",
              "      <td>44911</td>\n",
              "      <td>44911</td>\n",
              "      <td>28</td>\n",
              "      <td>Private</td>\n",
              "      <td>Bachelors</td>\n",
              "      <td>13</td>\n",
              "      <td>Never-married</td>\n",
              "      <td>Black</td>\n",
              "      <td>Female</td>\n",
              "      <td>45</td>\n",
              "      <td>&lt;=50K</td>\n",
              "    </tr>\n",
              "    <tr>\n",
              "      <th>43968</th>\n",
              "      <td>43969</td>\n",
              "      <td>43969</td>\n",
              "      <td>62</td>\n",
              "      <td>Private</td>\n",
              "      <td>Assoc-voc</td>\n",
              "      <td>11</td>\n",
              "      <td>Married-civ-spouse</td>\n",
              "      <td>White</td>\n",
              "      <td>Male</td>\n",
              "      <td>40</td>\n",
              "      <td>&gt;50K</td>\n",
              "    </tr>\n",
              "    <tr>\n",
              "      <th>27501</th>\n",
              "      <td>27502</td>\n",
              "      <td>27502</td>\n",
              "      <td>35</td>\n",
              "      <td>Private</td>\n",
              "      <td>Some-college</td>\n",
              "      <td>10</td>\n",
              "      <td>Married-civ-spouse</td>\n",
              "      <td>White</td>\n",
              "      <td>Male</td>\n",
              "      <td>55</td>\n",
              "      <td>&gt;50K</td>\n",
              "    </tr>\n",
              "    <tr>\n",
              "      <th>16902</th>\n",
              "      <td>16903</td>\n",
              "      <td>16903</td>\n",
              "      <td>51</td>\n",
              "      <td>Private</td>\n",
              "      <td>HS-grad</td>\n",
              "      <td>9</td>\n",
              "      <td>Married-civ-spouse</td>\n",
              "      <td>Black</td>\n",
              "      <td>Male</td>\n",
              "      <td>40</td>\n",
              "      <td>&gt;50K</td>\n",
              "    </tr>\n",
              "    <tr>\n",
              "      <th>32857</th>\n",
              "      <td>32858</td>\n",
              "      <td>32858</td>\n",
              "      <td>23</td>\n",
              "      <td>Private</td>\n",
              "      <td>Some-college</td>\n",
              "      <td>10</td>\n",
              "      <td>Never-married</td>\n",
              "      <td>White</td>\n",
              "      <td>Female</td>\n",
              "      <td>50</td>\n",
              "      <td>&lt;=50K</td>\n",
              "    </tr>\n",
              "  </tbody>\n",
              "</table>\n",
              "</div>"
            ],
            "text/plain": [
              "       Unnamed: 0      X  age workclass  ...   race  gender hours.per.week income\n",
              "44910       44911  44911   28   Private  ...  Black  Female             45  <=50K\n",
              "43968       43969  43969   62   Private  ...  White    Male             40   >50K\n",
              "27501       27502  27502   35   Private  ...  White    Male             55   >50K\n",
              "16902       16903  16903   51   Private  ...  Black    Male             40   >50K\n",
              "32857       32858  32858   23   Private  ...  White  Female             50  <=50K\n",
              "\n",
              "[5 rows x 11 columns]"
            ]
          },
          "metadata": {
            "tags": []
          },
          "execution_count": 6
        }
      ]
    }
  ]
}