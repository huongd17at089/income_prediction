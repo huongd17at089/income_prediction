{
  "nbformat": 4,
  "nbformat_minor": 0,
  "metadata": {
    "colab": {
      "name": "income_prediction.ipynb",
      "provenance": []
    },
    "kernelspec": {
      "name": "python3",
      "display_name": "Python 3"
    },
    "language_info": {
      "name": "python"
    }
  },
  "cells": [
    {
      "cell_type": "markdown",
      "metadata": {
        "id": "jKUvTlcKo-oO"
      },
      "source": [
        "# Bước 0: Tổng quan dữ liệu"
      ]
    },
    {
      "cell_type": "code",
      "metadata": {
        "id": "WHrmoKcpgSBG"
      },
      "source": [
        "import pandas as pd\n",
        "import matplotlib.pyplot as plt\n",
        "import seaborn as sns\n",
        "url = \"https://raw.githubusercontent.com/huongd17at089/income_prediction/master/data_adult.csv\"\n"
      ],
      "execution_count": 1,
      "outputs": []
    },
    {
      "cell_type": "code",
      "metadata": {
        "id": "6YzOdVuIpKcB",
        "colab": {
          "base_uri": "https://localhost:8080/",
          "height": 204
        },
        "outputId": "29f61761-cb56-4e44-b866-59f5cb549baa"
      },
      "source": [
        "df = pd.read_csv(url)\n",
        "df.head()"
      ],
      "execution_count": 3,
      "outputs": [
        {
          "output_type": "execute_result",
          "data": {
            "text/html": [
              "<div>\n",
              "<style scoped>\n",
              "    .dataframe tbody tr th:only-of-type {\n",
              "        vertical-align: middle;\n",
              "    }\n",
              "\n",
              "    .dataframe tbody tr th {\n",
              "        vertical-align: top;\n",
              "    }\n",
              "\n",
              "    .dataframe thead th {\n",
              "        text-align: right;\n",
              "    }\n",
              "</style>\n",
              "<table border=\"1\" class=\"dataframe\">\n",
              "  <thead>\n",
              "    <tr style=\"text-align: right;\">\n",
              "      <th></th>\n",
              "      <th>Unnamed: 0</th>\n",
              "      <th>X</th>\n",
              "      <th>age</th>\n",
              "      <th>workclass</th>\n",
              "      <th>education</th>\n",
              "      <th>educational.num</th>\n",
              "      <th>marital.status</th>\n",
              "      <th>race</th>\n",
              "      <th>gender</th>\n",
              "      <th>hours.per.week</th>\n",
              "      <th>income</th>\n",
              "    </tr>\n",
              "  </thead>\n",
              "  <tbody>\n",
              "    <tr>\n",
              "      <th>0</th>\n",
              "      <td>1</td>\n",
              "      <td>1</td>\n",
              "      <td>25</td>\n",
              "      <td>Private</td>\n",
              "      <td>11th</td>\n",
              "      <td>7</td>\n",
              "      <td>Never-married</td>\n",
              "      <td>Black</td>\n",
              "      <td>Male</td>\n",
              "      <td>40</td>\n",
              "      <td>&lt;=50K</td>\n",
              "    </tr>\n",
              "    <tr>\n",
              "      <th>1</th>\n",
              "      <td>2</td>\n",
              "      <td>2</td>\n",
              "      <td>38</td>\n",
              "      <td>Private</td>\n",
              "      <td>HS-grad</td>\n",
              "      <td>9</td>\n",
              "      <td>Married-civ-spouse</td>\n",
              "      <td>White</td>\n",
              "      <td>Male</td>\n",
              "      <td>50</td>\n",
              "      <td>&lt;=50K</td>\n",
              "    </tr>\n",
              "    <tr>\n",
              "      <th>2</th>\n",
              "      <td>3</td>\n",
              "      <td>3</td>\n",
              "      <td>28</td>\n",
              "      <td>Local-gov</td>\n",
              "      <td>Assoc-acdm</td>\n",
              "      <td>12</td>\n",
              "      <td>Married-civ-spouse</td>\n",
              "      <td>White</td>\n",
              "      <td>Male</td>\n",
              "      <td>40</td>\n",
              "      <td>&gt;50K</td>\n",
              "    </tr>\n",
              "    <tr>\n",
              "      <th>3</th>\n",
              "      <td>4</td>\n",
              "      <td>4</td>\n",
              "      <td>44</td>\n",
              "      <td>Private</td>\n",
              "      <td>Some-college</td>\n",
              "      <td>10</td>\n",
              "      <td>Married-civ-spouse</td>\n",
              "      <td>Black</td>\n",
              "      <td>Male</td>\n",
              "      <td>40</td>\n",
              "      <td>&gt;50K</td>\n",
              "    </tr>\n",
              "    <tr>\n",
              "      <th>4</th>\n",
              "      <td>5</td>\n",
              "      <td>5</td>\n",
              "      <td>34</td>\n",
              "      <td>Private</td>\n",
              "      <td>10th</td>\n",
              "      <td>6</td>\n",
              "      <td>Never-married</td>\n",
              "      <td>White</td>\n",
              "      <td>Male</td>\n",
              "      <td>30</td>\n",
              "      <td>&lt;=50K</td>\n",
              "    </tr>\n",
              "  </tbody>\n",
              "</table>\n",
              "</div>"
            ],
            "text/plain": [
              "   Unnamed: 0  X  age  workclass  ...   race  gender hours.per.week income\n",
              "0           1  1   25    Private  ...  Black    Male             40  <=50K\n",
              "1           2  2   38    Private  ...  White    Male             50  <=50K\n",
              "2           3  3   28  Local-gov  ...  White    Male             40   >50K\n",
              "3           4  4   44    Private  ...  Black    Male             40   >50K\n",
              "4           5  5   34    Private  ...  White    Male             30  <=50K\n",
              "\n",
              "[5 rows x 11 columns]"
            ]
          },
          "metadata": {
            "tags": []
          },
          "execution_count": 3
        }
      ]
    },
    {
      "cell_type": "code",
      "metadata": {
        "id": "bnsn38ezoRmx",
        "colab": {
          "base_uri": "https://localhost:8080/",
          "height": 204
        },
        "outputId": "dcc6284e-9798-43ae-c21c-c18e48cf87a4"
      },
      "source": [
        "df.tail()"
      ],
      "execution_count": null,
      "outputs": [
        {
          "output_type": "execute_result",
          "data": {
            "text/html": [
              "<div>\n",
              "<style scoped>\n",
              "    .dataframe tbody tr th:only-of-type {\n",
              "        vertical-align: middle;\n",
              "    }\n",
              "\n",
              "    .dataframe tbody tr th {\n",
              "        vertical-align: top;\n",
              "    }\n",
              "\n",
              "    .dataframe thead th {\n",
              "        text-align: right;\n",
              "    }\n",
              "</style>\n",
              "<table border=\"1\" class=\"dataframe\">\n",
              "  <thead>\n",
              "    <tr style=\"text-align: right;\">\n",
              "      <th></th>\n",
              "      <th>Unnamed: 0</th>\n",
              "      <th>X</th>\n",
              "      <th>age</th>\n",
              "      <th>workclass</th>\n",
              "      <th>education</th>\n",
              "      <th>educational.num</th>\n",
              "      <th>marital.status</th>\n",
              "      <th>race</th>\n",
              "      <th>gender</th>\n",
              "      <th>hours.per.week</th>\n",
              "      <th>income</th>\n",
              "    </tr>\n",
              "  </thead>\n",
              "  <tbody>\n",
              "    <tr>\n",
              "      <th>46028</th>\n",
              "      <td>46029</td>\n",
              "      <td>46029</td>\n",
              "      <td>27</td>\n",
              "      <td>Private</td>\n",
              "      <td>Assoc-acdm</td>\n",
              "      <td>12</td>\n",
              "      <td>Married-civ-spouse</td>\n",
              "      <td>White</td>\n",
              "      <td>Female</td>\n",
              "      <td>38</td>\n",
              "      <td>&lt;=50K</td>\n",
              "    </tr>\n",
              "    <tr>\n",
              "      <th>46029</th>\n",
              "      <td>46030</td>\n",
              "      <td>46030</td>\n",
              "      <td>40</td>\n",
              "      <td>Private</td>\n",
              "      <td>HS-grad</td>\n",
              "      <td>9</td>\n",
              "      <td>Married-civ-spouse</td>\n",
              "      <td>White</td>\n",
              "      <td>Male</td>\n",
              "      <td>40</td>\n",
              "      <td>&gt;50K</td>\n",
              "    </tr>\n",
              "    <tr>\n",
              "      <th>46030</th>\n",
              "      <td>46031</td>\n",
              "      <td>46031</td>\n",
              "      <td>58</td>\n",
              "      <td>Private</td>\n",
              "      <td>HS-grad</td>\n",
              "      <td>9</td>\n",
              "      <td>Widowed</td>\n",
              "      <td>White</td>\n",
              "      <td>Female</td>\n",
              "      <td>40</td>\n",
              "      <td>&lt;=50K</td>\n",
              "    </tr>\n",
              "    <tr>\n",
              "      <th>46031</th>\n",
              "      <td>46032</td>\n",
              "      <td>46032</td>\n",
              "      <td>22</td>\n",
              "      <td>Private</td>\n",
              "      <td>HS-grad</td>\n",
              "      <td>9</td>\n",
              "      <td>Never-married</td>\n",
              "      <td>White</td>\n",
              "      <td>Male</td>\n",
              "      <td>20</td>\n",
              "      <td>&lt;=50K</td>\n",
              "    </tr>\n",
              "    <tr>\n",
              "      <th>46032</th>\n",
              "      <td>46033</td>\n",
              "      <td>46033</td>\n",
              "      <td>52</td>\n",
              "      <td>Self-emp-inc</td>\n",
              "      <td>HS-grad</td>\n",
              "      <td>9</td>\n",
              "      <td>Married-civ-spouse</td>\n",
              "      <td>White</td>\n",
              "      <td>Female</td>\n",
              "      <td>40</td>\n",
              "      <td>&gt;50K</td>\n",
              "    </tr>\n",
              "  </tbody>\n",
              "</table>\n",
              "</div>"
            ],
            "text/plain": [
              "       Unnamed: 0      X  age  ...  gender hours.per.week  income\n",
              "46028       46029  46029   27  ...  Female             38   <=50K\n",
              "46029       46030  46030   40  ...    Male             40    >50K\n",
              "46030       46031  46031   58  ...  Female             40   <=50K\n",
              "46031       46032  46032   22  ...    Male             20   <=50K\n",
              "46032       46033  46033   52  ...  Female             40    >50K\n",
              "\n",
              "[5 rows x 11 columns]"
            ]
          },
          "metadata": {
            "tags": []
          },
          "execution_count": 5
        }
      ]
    },
    {
      "cell_type": "code",
      "metadata": {
        "colab": {
          "base_uri": "https://localhost:8080/"
        },
        "id": "KTr6yVEV8p4F",
        "outputId": "8ea48db7-2040-4d81-e8ec-59ee8081692f"
      },
      "source": [
        "df.income.unique()"
      ],
      "execution_count": 4,
      "outputs": [
        {
          "output_type": "execute_result",
          "data": {
            "text/plain": [
              "array(['<=50K', '>50K'], dtype=object)"
            ]
          },
          "metadata": {
            "tags": []
          },
          "execution_count": 4
        }
      ]
    },
    {
      "cell_type": "markdown",
      "metadata": {
        "id": "uhwE38tU7iai"
      },
      "source": [
        "\n",
        "\n",
        "*   4603 bản ghi với 2 nhãn <=50k và >50k\n",
        "\n",
        "*   Unnamed: 0 : không có ý nghĩa => drop\n",
        "*   X : index??id?? => drop\n",
        "\n"
      ]
    },
    {
      "cell_type": "code",
      "metadata": {
        "id": "jfJOfA1HSgiL"
      },
      "source": [
        "df = df.drop([\"X\", \"Unnamed: 0\"], axis=1)\n"
      ],
      "execution_count": 6,
      "outputs": []
    },
    {
      "cell_type": "code",
      "metadata": {
        "id": "yF3Oti04e5_8"
      },
      "source": [
        "# continuous_vars = df.select_dtypes(include=\"int64\").columns\n",
        "# categorical_vars = df.select_dtypes(include=\"object\").columns\n",
        "# target = \"income\""
      ],
      "execution_count": null,
      "outputs": []
    },
    {
      "cell_type": "code",
      "metadata": {
        "colab": {
          "base_uri": "https://localhost:8080/"
        },
        "id": "268XHFjnXPCQ",
        "outputId": "02821814-7adb-43eb-d974-2a43b0e72a2a"
      },
      "source": [
        "# kiểm tra missing value và duplicate record\n",
        "print(\"duplicate : \",any(df.duplicated().tolist()))\n",
        "df.isnull().sum()"
      ],
      "execution_count": null,
      "outputs": [
        {
          "output_type": "stream",
          "text": [
            "duplicate :  True\n"
          ],
          "name": "stdout"
        },
        {
          "output_type": "execute_result",
          "data": {
            "text/plain": [
              "age                0\n",
              "workclass          0\n",
              "education          0\n",
              "educational.num    0\n",
              "marital.status     0\n",
              "race               0\n",
              "gender             0\n",
              "hours.per.week     0\n",
              "income             0\n",
              "dtype: int64"
            ]
          },
          "metadata": {
            "tags": []
          },
          "execution_count": 7
        }
      ]
    },
    {
      "cell_type": "code",
      "metadata": {
        "id": "gX7UxCkMCtPb",
        "colab": {
          "base_uri": "https://localhost:8080/",
          "height": 419
        },
        "outputId": "16d6f778-9d69-4352-f578-d0c5aa87b36f"
      },
      "source": [
        "df.iloc[df.duplicated().tolist()]"
      ],
      "execution_count": null,
      "outputs": [
        {
          "output_type": "execute_result",
          "data": {
            "text/html": [
              "<div>\n",
              "<style scoped>\n",
              "    .dataframe tbody tr th:only-of-type {\n",
              "        vertical-align: middle;\n",
              "    }\n",
              "\n",
              "    .dataframe tbody tr th {\n",
              "        vertical-align: top;\n",
              "    }\n",
              "\n",
              "    .dataframe thead th {\n",
              "        text-align: right;\n",
              "    }\n",
              "</style>\n",
              "<table border=\"1\" class=\"dataframe\">\n",
              "  <thead>\n",
              "    <tr style=\"text-align: right;\">\n",
              "      <th></th>\n",
              "      <th>age</th>\n",
              "      <th>workclass</th>\n",
              "      <th>education</th>\n",
              "      <th>educational.num</th>\n",
              "      <th>marital.status</th>\n",
              "      <th>race</th>\n",
              "      <th>gender</th>\n",
              "      <th>hours.per.week</th>\n",
              "      <th>income</th>\n",
              "    </tr>\n",
              "  </thead>\n",
              "  <tbody>\n",
              "    <tr>\n",
              "      <th>88</th>\n",
              "      <td>20</td>\n",
              "      <td>Private</td>\n",
              "      <td>HS-grad</td>\n",
              "      <td>9</td>\n",
              "      <td>Never-married</td>\n",
              "      <td>White</td>\n",
              "      <td>Male</td>\n",
              "      <td>40</td>\n",
              "      <td>&lt;=50K</td>\n",
              "    </tr>\n",
              "    <tr>\n",
              "      <th>118</th>\n",
              "      <td>28</td>\n",
              "      <td>Private</td>\n",
              "      <td>HS-grad</td>\n",
              "      <td>9</td>\n",
              "      <td>Never-married</td>\n",
              "      <td>White</td>\n",
              "      <td>Male</td>\n",
              "      <td>40</td>\n",
              "      <td>&lt;=50K</td>\n",
              "    </tr>\n",
              "    <tr>\n",
              "      <th>170</th>\n",
              "      <td>34</td>\n",
              "      <td>Private</td>\n",
              "      <td>Masters</td>\n",
              "      <td>14</td>\n",
              "      <td>Never-married</td>\n",
              "      <td>White</td>\n",
              "      <td>Male</td>\n",
              "      <td>40</td>\n",
              "      <td>&lt;=50K</td>\n",
              "    </tr>\n",
              "    <tr>\n",
              "      <th>212</th>\n",
              "      <td>41</td>\n",
              "      <td>Private</td>\n",
              "      <td>Some-college</td>\n",
              "      <td>10</td>\n",
              "      <td>Married-civ-spouse</td>\n",
              "      <td>White</td>\n",
              "      <td>Male</td>\n",
              "      <td>40</td>\n",
              "      <td>&lt;=50K</td>\n",
              "    </tr>\n",
              "    <tr>\n",
              "      <th>247</th>\n",
              "      <td>26</td>\n",
              "      <td>Private</td>\n",
              "      <td>Bachelors</td>\n",
              "      <td>13</td>\n",
              "      <td>Never-married</td>\n",
              "      <td>White</td>\n",
              "      <td>Female</td>\n",
              "      <td>40</td>\n",
              "      <td>&lt;=50K</td>\n",
              "    </tr>\n",
              "    <tr>\n",
              "      <th>...</th>\n",
              "      <td>...</td>\n",
              "      <td>...</td>\n",
              "      <td>...</td>\n",
              "      <td>...</td>\n",
              "      <td>...</td>\n",
              "      <td>...</td>\n",
              "      <td>...</td>\n",
              "      <td>...</td>\n",
              "      <td>...</td>\n",
              "    </tr>\n",
              "    <tr>\n",
              "      <th>46022</th>\n",
              "      <td>43</td>\n",
              "      <td>Self-emp-not-inc</td>\n",
              "      <td>Some-college</td>\n",
              "      <td>10</td>\n",
              "      <td>Married-civ-spouse</td>\n",
              "      <td>White</td>\n",
              "      <td>Male</td>\n",
              "      <td>50</td>\n",
              "      <td>&lt;=50K</td>\n",
              "    </tr>\n",
              "    <tr>\n",
              "      <th>46026</th>\n",
              "      <td>53</td>\n",
              "      <td>Private</td>\n",
              "      <td>Masters</td>\n",
              "      <td>14</td>\n",
              "      <td>Married-civ-spouse</td>\n",
              "      <td>White</td>\n",
              "      <td>Male</td>\n",
              "      <td>40</td>\n",
              "      <td>&gt;50K</td>\n",
              "    </tr>\n",
              "    <tr>\n",
              "      <th>46027</th>\n",
              "      <td>22</td>\n",
              "      <td>Private</td>\n",
              "      <td>Some-college</td>\n",
              "      <td>10</td>\n",
              "      <td>Never-married</td>\n",
              "      <td>White</td>\n",
              "      <td>Male</td>\n",
              "      <td>40</td>\n",
              "      <td>&lt;=50K</td>\n",
              "    </tr>\n",
              "    <tr>\n",
              "      <th>46029</th>\n",
              "      <td>40</td>\n",
              "      <td>Private</td>\n",
              "      <td>HS-grad</td>\n",
              "      <td>9</td>\n",
              "      <td>Married-civ-spouse</td>\n",
              "      <td>White</td>\n",
              "      <td>Male</td>\n",
              "      <td>40</td>\n",
              "      <td>&gt;50K</td>\n",
              "    </tr>\n",
              "    <tr>\n",
              "      <th>46031</th>\n",
              "      <td>22</td>\n",
              "      <td>Private</td>\n",
              "      <td>HS-grad</td>\n",
              "      <td>9</td>\n",
              "      <td>Never-married</td>\n",
              "      <td>White</td>\n",
              "      <td>Male</td>\n",
              "      <td>20</td>\n",
              "      <td>&lt;=50K</td>\n",
              "    </tr>\n",
              "  </tbody>\n",
              "</table>\n",
              "<p>19109 rows × 9 columns</p>\n",
              "</div>"
            ],
            "text/plain": [
              "       age         workclass     education  ...  gender hours.per.week income\n",
              "88      20           Private       HS-grad  ...    Male             40  <=50K\n",
              "118     28           Private       HS-grad  ...    Male             40  <=50K\n",
              "170     34           Private       Masters  ...    Male             40  <=50K\n",
              "212     41           Private  Some-college  ...    Male             40  <=50K\n",
              "247     26           Private     Bachelors  ...  Female             40  <=50K\n",
              "...    ...               ...           ...  ...     ...            ...    ...\n",
              "46022   43  Self-emp-not-inc  Some-college  ...    Male             50  <=50K\n",
              "46026   53           Private       Masters  ...    Male             40   >50K\n",
              "46027   22           Private  Some-college  ...    Male             40  <=50K\n",
              "46029   40           Private       HS-grad  ...    Male             40   >50K\n",
              "46031   22           Private       HS-grad  ...    Male             20  <=50K\n",
              "\n",
              "[19109 rows x 9 columns]"
            ]
          },
          "metadata": {
            "tags": []
          },
          "execution_count": 8
        }
      ]
    },
    {
      "cell_type": "markdown",
      "metadata": {
        "id": "FhWmtSkr746b"
      },
      "source": [
        "\n",
        "\n",
        "*   không có giá trị nan\n",
        "*   duplicate ~ 2k (~40%) sample ở cả 2 nhãn => drop\n",
        "\n"
      ]
    },
    {
      "cell_type": "code",
      "metadata": {
        "id": "5grv7rdLB3dF"
      },
      "source": [
        "df = df.drop_duplicates()"
      ],
      "execution_count": 12,
      "outputs": []
    },
    {
      "cell_type": "code",
      "metadata": {
        "id": "RnMI3L3jDQoK",
        "colab": {
          "base_uri": "https://localhost:8080/",
          "height": 419
        },
        "outputId": "bd754be6-e75d-4bc1-8ef1-b2df3b4183bb"
      },
      "source": [
        "df"
      ],
      "execution_count": null,
      "outputs": [
        {
          "output_type": "execute_result",
          "data": {
            "text/html": [
              "<div>\n",
              "<style scoped>\n",
              "    .dataframe tbody tr th:only-of-type {\n",
              "        vertical-align: middle;\n",
              "    }\n",
              "\n",
              "    .dataframe tbody tr th {\n",
              "        vertical-align: top;\n",
              "    }\n",
              "\n",
              "    .dataframe thead th {\n",
              "        text-align: right;\n",
              "    }\n",
              "</style>\n",
              "<table border=\"1\" class=\"dataframe\">\n",
              "  <thead>\n",
              "    <tr style=\"text-align: right;\">\n",
              "      <th></th>\n",
              "      <th>age</th>\n",
              "      <th>workclass</th>\n",
              "      <th>education</th>\n",
              "      <th>educational.num</th>\n",
              "      <th>marital.status</th>\n",
              "      <th>race</th>\n",
              "      <th>gender</th>\n",
              "      <th>hours.per.week</th>\n",
              "      <th>income</th>\n",
              "    </tr>\n",
              "  </thead>\n",
              "  <tbody>\n",
              "    <tr>\n",
              "      <th>0</th>\n",
              "      <td>25</td>\n",
              "      <td>Private</td>\n",
              "      <td>11th</td>\n",
              "      <td>7</td>\n",
              "      <td>Never-married</td>\n",
              "      <td>Black</td>\n",
              "      <td>Male</td>\n",
              "      <td>40</td>\n",
              "      <td>&lt;=50K</td>\n",
              "    </tr>\n",
              "    <tr>\n",
              "      <th>1</th>\n",
              "      <td>38</td>\n",
              "      <td>Private</td>\n",
              "      <td>HS-grad</td>\n",
              "      <td>9</td>\n",
              "      <td>Married-civ-spouse</td>\n",
              "      <td>White</td>\n",
              "      <td>Male</td>\n",
              "      <td>50</td>\n",
              "      <td>&lt;=50K</td>\n",
              "    </tr>\n",
              "    <tr>\n",
              "      <th>2</th>\n",
              "      <td>28</td>\n",
              "      <td>Local-gov</td>\n",
              "      <td>Assoc-acdm</td>\n",
              "      <td>12</td>\n",
              "      <td>Married-civ-spouse</td>\n",
              "      <td>White</td>\n",
              "      <td>Male</td>\n",
              "      <td>40</td>\n",
              "      <td>&gt;50K</td>\n",
              "    </tr>\n",
              "    <tr>\n",
              "      <th>3</th>\n",
              "      <td>44</td>\n",
              "      <td>Private</td>\n",
              "      <td>Some-college</td>\n",
              "      <td>10</td>\n",
              "      <td>Married-civ-spouse</td>\n",
              "      <td>Black</td>\n",
              "      <td>Male</td>\n",
              "      <td>40</td>\n",
              "      <td>&gt;50K</td>\n",
              "    </tr>\n",
              "    <tr>\n",
              "      <th>4</th>\n",
              "      <td>34</td>\n",
              "      <td>Private</td>\n",
              "      <td>10th</td>\n",
              "      <td>6</td>\n",
              "      <td>Never-married</td>\n",
              "      <td>White</td>\n",
              "      <td>Male</td>\n",
              "      <td>30</td>\n",
              "      <td>&lt;=50K</td>\n",
              "    </tr>\n",
              "    <tr>\n",
              "      <th>...</th>\n",
              "      <td>...</td>\n",
              "      <td>...</td>\n",
              "      <td>...</td>\n",
              "      <td>...</td>\n",
              "      <td>...</td>\n",
              "      <td>...</td>\n",
              "      <td>...</td>\n",
              "      <td>...</td>\n",
              "      <td>...</td>\n",
              "    </tr>\n",
              "    <tr>\n",
              "      <th>46024</th>\n",
              "      <td>43</td>\n",
              "      <td>Private</td>\n",
              "      <td>Assoc-voc</td>\n",
              "      <td>11</td>\n",
              "      <td>Married-civ-spouse</td>\n",
              "      <td>White</td>\n",
              "      <td>Male</td>\n",
              "      <td>45</td>\n",
              "      <td>&lt;=50K</td>\n",
              "    </tr>\n",
              "    <tr>\n",
              "      <th>46025</th>\n",
              "      <td>32</td>\n",
              "      <td>Private</td>\n",
              "      <td>Masters</td>\n",
              "      <td>14</td>\n",
              "      <td>Never-married</td>\n",
              "      <td>Asian-Pac-Islander</td>\n",
              "      <td>Male</td>\n",
              "      <td>11</td>\n",
              "      <td>&lt;=50K</td>\n",
              "    </tr>\n",
              "    <tr>\n",
              "      <th>46028</th>\n",
              "      <td>27</td>\n",
              "      <td>Private</td>\n",
              "      <td>Assoc-acdm</td>\n",
              "      <td>12</td>\n",
              "      <td>Married-civ-spouse</td>\n",
              "      <td>White</td>\n",
              "      <td>Female</td>\n",
              "      <td>38</td>\n",
              "      <td>&lt;=50K</td>\n",
              "    </tr>\n",
              "    <tr>\n",
              "      <th>46030</th>\n",
              "      <td>58</td>\n",
              "      <td>Private</td>\n",
              "      <td>HS-grad</td>\n",
              "      <td>9</td>\n",
              "      <td>Widowed</td>\n",
              "      <td>White</td>\n",
              "      <td>Female</td>\n",
              "      <td>40</td>\n",
              "      <td>&lt;=50K</td>\n",
              "    </tr>\n",
              "    <tr>\n",
              "      <th>46032</th>\n",
              "      <td>52</td>\n",
              "      <td>Self-emp-inc</td>\n",
              "      <td>HS-grad</td>\n",
              "      <td>9</td>\n",
              "      <td>Married-civ-spouse</td>\n",
              "      <td>White</td>\n",
              "      <td>Female</td>\n",
              "      <td>40</td>\n",
              "      <td>&gt;50K</td>\n",
              "    </tr>\n",
              "  </tbody>\n",
              "</table>\n",
              "<p>26924 rows × 9 columns</p>\n",
              "</div>"
            ],
            "text/plain": [
              "       age     workclass     education  ...  gender hours.per.week income\n",
              "0       25       Private          11th  ...    Male             40  <=50K\n",
              "1       38       Private       HS-grad  ...    Male             50  <=50K\n",
              "2       28     Local-gov    Assoc-acdm  ...    Male             40   >50K\n",
              "3       44       Private  Some-college  ...    Male             40   >50K\n",
              "4       34       Private          10th  ...    Male             30  <=50K\n",
              "...    ...           ...           ...  ...     ...            ...    ...\n",
              "46024   43       Private     Assoc-voc  ...    Male             45  <=50K\n",
              "46025   32       Private       Masters  ...    Male             11  <=50K\n",
              "46028   27       Private    Assoc-acdm  ...  Female             38  <=50K\n",
              "46030   58       Private       HS-grad  ...  Female             40  <=50K\n",
              "46032   52  Self-emp-inc       HS-grad  ...  Female             40   >50K\n",
              "\n",
              "[26924 rows x 9 columns]"
            ]
          },
          "metadata": {
            "tags": []
          },
          "execution_count": 376
        }
      ]
    },
    {
      "cell_type": "code",
      "metadata": {
        "colab": {
          "base_uri": "https://localhost:8080/"
        },
        "id": "kdD209iw9HNo",
        "outputId": "52f1b339-fcab-4400-b93d-ee5a7856092a"
      },
      "source": [
        "df.info()"
      ],
      "execution_count": 7,
      "outputs": [
        {
          "output_type": "stream",
          "text": [
            "<class 'pandas.core.frame.DataFrame'>\n",
            "RangeIndex: 46033 entries, 0 to 46032\n",
            "Data columns (total 9 columns):\n",
            " #   Column           Non-Null Count  Dtype \n",
            "---  ------           --------------  ----- \n",
            " 0   age              46033 non-null  int64 \n",
            " 1   workclass        46033 non-null  object\n",
            " 2   education        46033 non-null  object\n",
            " 3   educational.num  46033 non-null  int64 \n",
            " 4   marital.status   46033 non-null  object\n",
            " 5   race             46033 non-null  object\n",
            " 6   gender           46033 non-null  object\n",
            " 7   hours.per.week   46033 non-null  int64 \n",
            " 8   income           46033 non-null  object\n",
            "dtypes: int64(3), object(6)\n",
            "memory usage: 3.2+ MB\n"
          ],
          "name": "stdout"
        }
      ]
    },
    {
      "cell_type": "markdown",
      "metadata": {
        "id": "ov3Q8Gnp9KZe"
      },
      "source": [
        "\n",
        "\n",
        "*   Biến continuous : \n",
        "\n",
        "> age \n",
        "\n",
        "> educational.num \n",
        "\n",
        "> hours.per.week\n",
        "\n",
        "*   Biến categorycal :\n",
        "\n",
        "\n",
        "> workclass\n",
        "\n",
        "> education\n",
        "\n",
        "> race\n",
        "\n",
        "> gender\n",
        "\n",
        "> marital.status\n",
        "\n",
        "\n",
        "\n",
        "*   binary target : \n",
        "\n",
        "\n",
        "> income\n",
        "\n",
        "\n",
        "\n",
        "\n",
        "\n",
        "\n",
        "\n",
        "\n",
        "\n",
        "\n",
        "\n",
        "\n",
        "\n",
        "\n",
        "\n",
        "\n"
      ]
    },
    {
      "cell_type": "code",
      "metadata": {
        "id": "RPgpe0dDS8I_"
      },
      "source": [
        "continuous_vars = [\"age\", \"educational.num\", \"hours.per.week\"]\n",
        "categorical_vars = [\"workclass\", \"education\", \"marital.status\", \"race\", \"gender\"]\n",
        "target = \"income\""
      ],
      "execution_count": 9,
      "outputs": []
    },
    {
      "cell_type": "markdown",
      "metadata": {
        "id": "kOImPi1Bpc4g"
      },
      "source": [
        "# Bước 1 : Kiểm tra biến continuous"
      ]
    },
    {
      "cell_type": "code",
      "metadata": {
        "colab": {
          "base_uri": "https://localhost:8080/",
          "height": 204
        },
        "id": "UPA-kvbWUQNg",
        "outputId": "7bb91294-8338-449a-8ff6-4843337ebeb8"
      },
      "source": [
        "df1 = df[continuous_vars]\n",
        "df1.sample(5)"
      ],
      "execution_count": 13,
      "outputs": [
        {
          "output_type": "execute_result",
          "data": {
            "text/html": [
              "<div>\n",
              "<style scoped>\n",
              "    .dataframe tbody tr th:only-of-type {\n",
              "        vertical-align: middle;\n",
              "    }\n",
              "\n",
              "    .dataframe tbody tr th {\n",
              "        vertical-align: top;\n",
              "    }\n",
              "\n",
              "    .dataframe thead th {\n",
              "        text-align: right;\n",
              "    }\n",
              "</style>\n",
              "<table border=\"1\" class=\"dataframe\">\n",
              "  <thead>\n",
              "    <tr style=\"text-align: right;\">\n",
              "      <th></th>\n",
              "      <th>age</th>\n",
              "      <th>educational.num</th>\n",
              "      <th>hours.per.week</th>\n",
              "    </tr>\n",
              "  </thead>\n",
              "  <tbody>\n",
              "    <tr>\n",
              "      <th>32431</th>\n",
              "      <td>40</td>\n",
              "      <td>9</td>\n",
              "      <td>45</td>\n",
              "    </tr>\n",
              "    <tr>\n",
              "      <th>3731</th>\n",
              "      <td>51</td>\n",
              "      <td>13</td>\n",
              "      <td>50</td>\n",
              "    </tr>\n",
              "    <tr>\n",
              "      <th>4053</th>\n",
              "      <td>37</td>\n",
              "      <td>14</td>\n",
              "      <td>50</td>\n",
              "    </tr>\n",
              "    <tr>\n",
              "      <th>22044</th>\n",
              "      <td>39</td>\n",
              "      <td>15</td>\n",
              "      <td>60</td>\n",
              "    </tr>\n",
              "    <tr>\n",
              "      <th>11138</th>\n",
              "      <td>38</td>\n",
              "      <td>14</td>\n",
              "      <td>20</td>\n",
              "    </tr>\n",
              "  </tbody>\n",
              "</table>\n",
              "</div>"
            ],
            "text/plain": [
              "       age  educational.num  hours.per.week\n",
              "32431   40                9              45\n",
              "3731    51               13              50\n",
              "4053    37               14              50\n",
              "22044   39               15              60\n",
              "11138   38               14              20"
            ]
          },
          "metadata": {
            "tags": []
          },
          "execution_count": 13
        }
      ]
    },
    {
      "cell_type": "code",
      "metadata": {
        "colab": {
          "base_uri": "https://localhost:8080/",
          "height": 297
        },
        "id": "utMaq1nvUfg7",
        "outputId": "8b4bc94c-572c-43ca-b377-8d6309112700"
      },
      "source": [
        "df1.describe()"
      ],
      "execution_count": 14,
      "outputs": [
        {
          "output_type": "execute_result",
          "data": {
            "text/html": [
              "<div>\n",
              "<style scoped>\n",
              "    .dataframe tbody tr th:only-of-type {\n",
              "        vertical-align: middle;\n",
              "    }\n",
              "\n",
              "    .dataframe tbody tr th {\n",
              "        vertical-align: top;\n",
              "    }\n",
              "\n",
              "    .dataframe thead th {\n",
              "        text-align: right;\n",
              "    }\n",
              "</style>\n",
              "<table border=\"1\" class=\"dataframe\">\n",
              "  <thead>\n",
              "    <tr style=\"text-align: right;\">\n",
              "      <th></th>\n",
              "      <th>age</th>\n",
              "      <th>educational.num</th>\n",
              "      <th>hours.per.week</th>\n",
              "    </tr>\n",
              "  </thead>\n",
              "  <tbody>\n",
              "    <tr>\n",
              "      <th>count</th>\n",
              "      <td>26924.000000</td>\n",
              "      <td>26924.000000</td>\n",
              "      <td>26924.000000</td>\n",
              "    </tr>\n",
              "    <tr>\n",
              "      <th>mean</th>\n",
              "      <td>41.062546</td>\n",
              "      <td>10.198262</td>\n",
              "      <td>41.518905</td>\n",
              "    </tr>\n",
              "    <tr>\n",
              "      <th>std</th>\n",
              "      <td>13.626968</td>\n",
              "      <td>2.874213</td>\n",
              "      <td>14.034889</td>\n",
              "    </tr>\n",
              "    <tr>\n",
              "      <th>min</th>\n",
              "      <td>17.000000</td>\n",
              "      <td>1.000000</td>\n",
              "      <td>1.000000</td>\n",
              "    </tr>\n",
              "    <tr>\n",
              "      <th>25%</th>\n",
              "      <td>31.000000</td>\n",
              "      <td>9.000000</td>\n",
              "      <td>36.000000</td>\n",
              "    </tr>\n",
              "    <tr>\n",
              "      <th>50%</th>\n",
              "      <td>40.000000</td>\n",
              "      <td>10.000000</td>\n",
              "      <td>40.000000</td>\n",
              "    </tr>\n",
              "    <tr>\n",
              "      <th>75%</th>\n",
              "      <td>50.000000</td>\n",
              "      <td>13.000000</td>\n",
              "      <td>50.000000</td>\n",
              "    </tr>\n",
              "    <tr>\n",
              "      <th>max</th>\n",
              "      <td>90.000000</td>\n",
              "      <td>16.000000</td>\n",
              "      <td>99.000000</td>\n",
              "    </tr>\n",
              "  </tbody>\n",
              "</table>\n",
              "</div>"
            ],
            "text/plain": [
              "                age  educational.num  hours.per.week\n",
              "count  26924.000000     26924.000000    26924.000000\n",
              "mean      41.062546        10.198262       41.518905\n",
              "std       13.626968         2.874213       14.034889\n",
              "min       17.000000         1.000000        1.000000\n",
              "25%       31.000000         9.000000       36.000000\n",
              "50%       40.000000        10.000000       40.000000\n",
              "75%       50.000000        13.000000       50.000000\n",
              "max       90.000000        16.000000       99.000000"
            ]
          },
          "metadata": {
            "tags": []
          },
          "execution_count": 14
        }
      ]
    },
    {
      "cell_type": "code",
      "metadata": {
        "colab": {
          "base_uri": "https://localhost:8080/",
          "height": 601
        },
        "id": "-8r6zQ5S_4Y4",
        "outputId": "03f533ed-3e44-41d7-e44a-3ee1f93d1f5a"
      },
      "source": [
        "boxplot = df.boxplot(column=continuous_vars, figsize=(12, 10), fontsize=20)"
      ],
      "execution_count": 15,
      "outputs": [
        {
          "output_type": "display_data",
          "data": {
            "image/png": "[encoded data removed]",
            "text/plain": [
              "<Figure size 864x720 with 1 Axes>"
            ]
          },
          "metadata": {
            "tags": [],
            "needs_background": "light"
          }
        }
      ]
    },
    {
      "cell_type": "markdown",
      "metadata": {
        "id": "dXOvcUAY_KKi"
      },
      "source": [
        "\n",
        "\n",
        "> Age\n",
        "\n",
        "*   tuổi trung bình ~ 40\n",
        "*   đa phần < 50 tuổi\n",
        "*   độ tuổi phổ biến : 30-50\n",
        "*   miền phân bố : 17-90\n",
        "*   có outlier > 70 ( độ tuổi lao động trung bình 18-65)\n",
        "\n",
        "> Education.num\n",
        "\n",
        "*   thời gian đào tạo trung bình ~ 10 năm ( đào tạo chuyên nghiệp )\n",
        "*   thời gian đào tạo phổ biến : 8-13 năm ( phổ thông - chuyên nghiệp)\n",
        "*   đa phần đào tạo < 13 năm\n",
        "*   miền : 1-16 năm\n",
        "*   outlier  < 4 ( mẫu giáo, tiểu học)\n",
        "\n",
        "> Hours.per.week \n",
        "\n",
        "*   giờ làm việc trung bình ~40\n",
        "*   số giờ làm việc phổ biến : 35-50\n",
        "*   miền : 1-99\n",
        "*   outlier : < 18 và  > 72 ( parttime ~20 overtime ~60)\n"
      ]
    },
    {
      "cell_type": "code",
      "metadata": {
        "colab": {
          "base_uri": "https://localhost:8080/",
          "height": 1000
        },
        "id": "IapMU42x_PTK",
        "outputId": "46eba37f-c778-4aab-989a-ed953cf29bf7"
      },
      "source": [
        "\n",
        "# fig, axes = plt.subplots(1,ncols=n_col, figsize = (10, 10))\n",
        "for ind,var in enumerate(continuous_vars):\n",
        "  sns.displot(df1[var],kde = True, bins = 16)"
      ],
      "execution_count": null,
      "outputs": [
        {
          "output_type": "display_data",
          "data": {
            "image/png": "[encoded data removed]",
            "text/plain": [
              "<Figure size 360x360 with 1 Axes>"
            ]
          },
          "metadata": {
            "tags": [],
            "needs_background": "light"
          }
        },
        {
          "output_type": "display_data",
          "data": {
            "image/png": "[encoded data removed]",
            "text/plain": [
              "<Figure size 360x360 with 1 Axes>"
            ]
          },
          "metadata": {
            "tags": [],
            "needs_background": "light"
          }
        },
        {
          "output_type": "display_data",
          "data": {
            "image/png": "[encoded data removed]",
            "text/plain": [
              "<Figure size 360x360 with 1 Axes>"
            ]
          },
          "metadata": {
            "tags": [],
            "needs_background": "light"
          }
        }
      ]
    },
    {
      "cell_type": "markdown",
      "metadata": {
        "id": "69fOvjCKHAzM"
      },
      "source": [
        "\n",
        "\n",
        "*   hours per week phân bố khá cân : đa phần làm việc 40 tiếng\n",
        "*   age phân bố lệch  : đa phần người trẻ tạo thu nhập\n",
        "*   edu num : đa phần mọi ng được đào tạo nghề chuyên nghiệp\n",
        "\n",
        "\n"
      ]
    },
    {
      "cell_type": "code",
      "metadata": {
        "colab": {
          "base_uri": "https://localhost:8080/",
          "height": 280
        },
        "id": "wAOyeMfoSG0v",
        "outputId": "057b4906-a024-4b10-b341-c3717073926e"
      },
      "source": [
        "df1[\"target\"] = df.income.apply(lambda x: x == \">50K\").astype(\"int64\")\n",
        "df1.corr()"
      ],
      "execution_count": 18,
      "outputs": [
        {
          "output_type": "stream",
          "text": [
            "/usr/local/lib/python3.7/dist-packages/ipykernel_launcher.py:1: SettingWithCopyWarning: \n",
            "A value is trying to be set on a copy of a slice from a DataFrame.\n",
            "Try using .loc[row_indexer,col_indexer] = value instead\n",
            "\n",
            "See the caveats in the documentation: https://pandas.pydata.org/pandas-docs/stable/user_guide/indexing.html#returning-a-view-versus-a-copy\n",
            "  \"\"\"Entry point for launching an IPython kernel.\n"
          ],
          "name": "stderr"
        },
        {
          "output_type": "execute_result",
          "data": {
            "text/html": [
              "<div>\n",
              "<style scoped>\n",
              "    .dataframe tbody tr th:only-of-type {\n",
              "        vertical-align: middle;\n",
              "    }\n",
              "\n",
              "    .dataframe tbody tr th {\n",
              "        vertical-align: top;\n",
              "    }\n",
              "\n",
              "    .dataframe thead th {\n",
              "        text-align: right;\n",
              "    }\n",
              "</style>\n",
              "<table border=\"1\" class=\"dataframe\">\n",
              "  <thead>\n",
              "    <tr style=\"text-align: right;\">\n",
              "      <th></th>\n",
              "      <th>age</th>\n",
              "      <th>educational.num</th>\n",
              "      <th>hours.per.week</th>\n",
              "      <th>target</th>\n",
              "    </tr>\n",
              "  </thead>\n",
              "  <tbody>\n",
              "    <tr>\n",
              "      <th>age</th>\n",
              "      <td>1.000000</td>\n",
              "      <td>0.009197</td>\n",
              "      <td>0.005632</td>\n",
              "      <td>0.157533</td>\n",
              "    </tr>\n",
              "    <tr>\n",
              "      <th>educational.num</th>\n",
              "      <td>0.009197</td>\n",
              "      <td>1.000000</td>\n",
              "      <td>0.123633</td>\n",
              "      <td>0.322601</td>\n",
              "    </tr>\n",
              "    <tr>\n",
              "      <th>hours.per.week</th>\n",
              "      <td>0.005632</td>\n",
              "      <td>0.123633</td>\n",
              "      <td>1.000000</td>\n",
              "      <td>0.210662</td>\n",
              "    </tr>\n",
              "    <tr>\n",
              "      <th>target</th>\n",
              "      <td>0.157533</td>\n",
              "      <td>0.322601</td>\n",
              "      <td>0.210662</td>\n",
              "      <td>1.000000</td>\n",
              "    </tr>\n",
              "  </tbody>\n",
              "</table>\n",
              "</div>"
            ],
            "text/plain": [
              "                      age  educational.num  hours.per.week    target\n",
              "age              1.000000         0.009197        0.005632  0.157533\n",
              "educational.num  0.009197         1.000000        0.123633  0.322601\n",
              "hours.per.week   0.005632         0.123633        1.000000  0.210662\n",
              "target           0.157533         0.322601        0.210662  1.000000"
            ]
          },
          "metadata": {
            "tags": []
          },
          "execution_count": 18
        }
      ]
    },
    {
      "cell_type": "markdown",
      "metadata": {
        "id": "5nQBZ_RAGSt5"
      },
      "source": [
        "\n",
        "\n",
        "*   Không có quan hệ rõ ràng nào\n",
        "\n",
        "\n"
      ]
    },
    {
      "cell_type": "markdown",
      "metadata": {
        "id": "z-K8DzrRpgn-"
      },
      "source": [
        "#Bước 2 : kiểm tra biến categorical"
      ]
    },
    {
      "cell_type": "code",
      "metadata": {
        "colab": {
          "base_uri": "https://localhost:8080/",
          "height": 204
        },
        "id": "dF_Pmz-xVEDc",
        "outputId": "0106c255-04ee-4837-b01d-5f13aabe8e79"
      },
      "source": [
        "df2 = df[categorical_vars]\n",
        "df2.sample(5)"
      ],
      "execution_count": 19,
      "outputs": [
        {
          "output_type": "execute_result",
          "data": {
            "text/html": [
              "<div>\n",
              "<style scoped>\n",
              "    .dataframe tbody tr th:only-of-type {\n",
              "        vertical-align: middle;\n",
              "    }\n",
              "\n",
              "    .dataframe tbody tr th {\n",
              "        vertical-align: top;\n",
              "    }\n",
              "\n",
              "    .dataframe thead th {\n",
              "        text-align: right;\n",
              "    }\n",
              "</style>\n",
              "<table border=\"1\" class=\"dataframe\">\n",
              "  <thead>\n",
              "    <tr style=\"text-align: right;\">\n",
              "      <th></th>\n",
              "      <th>workclass</th>\n",
              "      <th>education</th>\n",
              "      <th>marital.status</th>\n",
              "      <th>race</th>\n",
              "      <th>gender</th>\n",
              "    </tr>\n",
              "  </thead>\n",
              "  <tbody>\n",
              "    <tr>\n",
              "      <th>16198</th>\n",
              "      <td>Private</td>\n",
              "      <td>HS-grad</td>\n",
              "      <td>Never-married</td>\n",
              "      <td>White</td>\n",
              "      <td>Female</td>\n",
              "    </tr>\n",
              "    <tr>\n",
              "      <th>922</th>\n",
              "      <td>Self-emp-not-inc</td>\n",
              "      <td>Prof-school</td>\n",
              "      <td>Divorced</td>\n",
              "      <td>White</td>\n",
              "      <td>Male</td>\n",
              "    </tr>\n",
              "    <tr>\n",
              "      <th>209</th>\n",
              "      <td>Private</td>\n",
              "      <td>HS-grad</td>\n",
              "      <td>Never-married</td>\n",
              "      <td>White</td>\n",
              "      <td>Male</td>\n",
              "    </tr>\n",
              "    <tr>\n",
              "      <th>4842</th>\n",
              "      <td>Self-emp-not-inc</td>\n",
              "      <td>9th</td>\n",
              "      <td>Married-civ-spouse</td>\n",
              "      <td>White</td>\n",
              "      <td>Male</td>\n",
              "    </tr>\n",
              "    <tr>\n",
              "      <th>13943</th>\n",
              "      <td>Private</td>\n",
              "      <td>HS-grad</td>\n",
              "      <td>Never-married</td>\n",
              "      <td>White</td>\n",
              "      <td>Male</td>\n",
              "    </tr>\n",
              "  </tbody>\n",
              "</table>\n",
              "</div>"
            ],
            "text/plain": [
              "              workclass    education      marital.status   race  gender\n",
              "16198           Private      HS-grad       Never-married  White  Female\n",
              "922    Self-emp-not-inc  Prof-school            Divorced  White    Male\n",
              "209             Private      HS-grad       Never-married  White    Male\n",
              "4842   Self-emp-not-inc          9th  Married-civ-spouse  White    Male\n",
              "13943           Private      HS-grad       Never-married  White    Male"
            ]
          },
          "metadata": {
            "tags": []
          },
          "execution_count": 19
        }
      ]
    },
    {
      "cell_type": "markdown",
      "metadata": {
        "id": "Sipbns3TGuyV"
      },
      "source": [
        "category từng biến\n",
        "\n"
      ]
    },
    {
      "cell_type": "code",
      "metadata": {
        "colab": {
          "base_uri": "https://localhost:8080/"
        },
        "id": "NLp-012FGh4x",
        "outputId": "e29ec880-108d-4c0c-c1d5-391dc91a08cf"
      },
      "source": [
        "df2.workclass.unique()"
      ],
      "execution_count": 20,
      "outputs": [
        {
          "output_type": "execute_result",
          "data": {
            "text/plain": [
              "array(['Private', 'Local-gov', 'Self-emp-not-inc', 'Federal-gov',\n",
              "       'State-gov', 'Self-emp-inc', 'Without-pay'], dtype=object)"
            ]
          },
          "metadata": {
            "tags": []
          },
          "execution_count": 20
        }
      ]
    },
    {
      "cell_type": "code",
      "metadata": {
        "colab": {
          "base_uri": "https://localhost:8080/"
        },
        "id": "hnfxrIIaGoyW",
        "outputId": "fe49305d-e430-44e3-8632-076973b1bb18"
      },
      "source": [
        "df2.education.unique()"
      ],
      "execution_count": 21,
      "outputs": [
        {
          "output_type": "execute_result",
          "data": {
            "text/plain": [
              "array(['11th', 'HS-grad', 'Assoc-acdm', 'Some-college', '10th',\n",
              "       'Prof-school', '7th-8th', 'Bachelors', 'Masters', 'Doctorate',\n",
              "       '5th-6th', 'Assoc-voc', '9th', '12th', '1st-4th', 'Preschool'],\n",
              "      dtype=object)"
            ]
          },
          "metadata": {
            "tags": []
          },
          "execution_count": 21
        }
      ]
    },
    {
      "cell_type": "code",
      "metadata": {
        "colab": {
          "base_uri": "https://localhost:8080/"
        },
        "id": "wbhQ-bpIH5Sb",
        "outputId": "e24a862b-b1ce-4a55-8997-4e2e7afeb066"
      },
      "source": [
        "df2.race.unique()"
      ],
      "execution_count": 22,
      "outputs": [
        {
          "output_type": "execute_result",
          "data": {
            "text/plain": [
              "array(['Black', 'White', 'Asian-Pac-Islander', 'Other',\n",
              "       'Amer-Indian-Eskimo'], dtype=object)"
            ]
          },
          "metadata": {
            "tags": []
          },
          "execution_count": 22
        }
      ]
    },
    {
      "cell_type": "code",
      "metadata": {
        "colab": {
          "base_uri": "https://localhost:8080/"
        },
        "id": "K3h-T3XIH-P3",
        "outputId": "3030ba32-f834-406c-d09b-9e8d8b3c494e"
      },
      "source": [
        "df2.gender.unique()"
      ],
      "execution_count": 23,
      "outputs": [
        {
          "output_type": "execute_result",
          "data": {
            "text/plain": [
              "array(['Male', 'Female'], dtype=object)"
            ]
          },
          "metadata": {
            "tags": []
          },
          "execution_count": 23
        }
      ]
    },
    {
      "cell_type": "code",
      "metadata": {
        "colab": {
          "base_uri": "https://localhost:8080/"
        },
        "id": "uQtHkmqCIE3Q",
        "outputId": "2aa49a26-d022-4c46-dc05-d76878fabadc"
      },
      "source": [
        "df2[\"marital.status\"].unique()"
      ],
      "execution_count": 24,
      "outputs": [
        {
          "output_type": "execute_result",
          "data": {
            "text/plain": [
              "array(['Never-married', 'Married-civ-spouse', 'Widowed', 'Separated',\n",
              "       'Divorced', 'Married-spouse-absent', 'Married-AF-spouse'],\n",
              "      dtype=object)"
            ]
          },
          "metadata": {
            "tags": []
          },
          "execution_count": 24
        }
      ]
    },
    {
      "cell_type": "code",
      "metadata": {
        "colab": {
          "base_uri": "https://localhost:8080/",
          "height": 173
        },
        "id": "QFmJmXh76ULd",
        "outputId": "0d7570eb-96b5-4c46-e90f-90f887ba2642"
      },
      "source": [
        "df2.describe(include=[\"O\"])\n",
        "# df.describe(include=\"all\")"
      ],
      "execution_count": 25,
      "outputs": [
        {
          "output_type": "execute_result",
          "data": {
            "text/html": [
              "<div>\n",
              "<style scoped>\n",
              "    .dataframe tbody tr th:only-of-type {\n",
              "        vertical-align: middle;\n",
              "    }\n",
              "\n",
              "    .dataframe tbody tr th {\n",
              "        vertical-align: top;\n",
              "    }\n",
              "\n",
              "    .dataframe thead th {\n",
              "        text-align: right;\n",
              "    }\n",
              "</style>\n",
              "<table border=\"1\" class=\"dataframe\">\n",
              "  <thead>\n",
              "    <tr style=\"text-align: right;\">\n",
              "      <th></th>\n",
              "      <th>workclass</th>\n",
              "      <th>education</th>\n",
              "      <th>marital.status</th>\n",
              "      <th>race</th>\n",
              "      <th>gender</th>\n",
              "    </tr>\n",
              "  </thead>\n",
              "  <tbody>\n",
              "    <tr>\n",
              "      <th>count</th>\n",
              "      <td>26924</td>\n",
              "      <td>26924</td>\n",
              "      <td>26924</td>\n",
              "      <td>26924</td>\n",
              "      <td>26924</td>\n",
              "    </tr>\n",
              "    <tr>\n",
              "      <th>unique</th>\n",
              "      <td>7</td>\n",
              "      <td>16</td>\n",
              "      <td>7</td>\n",
              "      <td>5</td>\n",
              "      <td>2</td>\n",
              "    </tr>\n",
              "    <tr>\n",
              "      <th>top</th>\n",
              "      <td>Private</td>\n",
              "      <td>HS-grad</td>\n",
              "      <td>Married-civ-spouse</td>\n",
              "      <td>White</td>\n",
              "      <td>Male</td>\n",
              "    </tr>\n",
              "    <tr>\n",
              "      <th>freq</th>\n",
              "      <td>16664</td>\n",
              "      <td>6987</td>\n",
              "      <td>12135</td>\n",
              "      <td>21554</td>\n",
              "      <td>17221</td>\n",
              "    </tr>\n",
              "  </tbody>\n",
              "</table>\n",
              "</div>"
            ],
            "text/plain": [
              "       workclass education      marital.status   race gender\n",
              "count      26924     26924               26924  26924  26924\n",
              "unique         7        16                   7      5      2\n",
              "top      Private   HS-grad  Married-civ-spouse  White   Male\n",
              "freq       16664      6987               12135  21554  17221"
            ]
          },
          "metadata": {
            "tags": []
          },
          "execution_count": 25
        }
      ]
    },
    {
      "cell_type": "code",
      "metadata": {
        "colab": {
          "base_uri": "https://localhost:8080/",
          "height": 1000
        },
        "id": "ocUsWn2WXllr",
        "outputId": "34cf62eb-76a4-40e8-f118-3b1ee61cc30e"
      },
      "source": [
        "from matplotlib import pyplot as plt\n",
        "# fig,axes = plt.subplots(nrows=len(categorical_vars),figsize=(20,20))\n",
        "\n",
        "for ind,var in enumerate(categorical_vars):\n",
        "  frequency = df2[var].value_counts()\n",
        "  # Percentage = Frequency/len(Frequency)*100\n",
        "  plt.figure(ind)\n",
        "  plt.figure(figsize=(15,5));\n",
        "  plt.bar( frequency.index, frequency.values)\n",
        "  plt.title(var)\n",
        "  plt.xticks(rotation = 10)\n",
        "#   axes[ind,0].set_title(var)\n",
        "#   axes[ind,1].pie(x=Percentage, radius=1.5)\n",
        "# plt.legend();"
      ],
      "execution_count": null,
      "outputs": [
        {
          "output_type": "display_data",
          "data": {
            "text/plain": [
              "<Figure size 432x288 with 0 Axes>"
            ]
          },
          "metadata": {
            "tags": []
          }
        },
        {
          "output_type": "display_data",
          "data": {
            "image/png": "[encoded data removed]",
            "text/plain": [
              "<Figure size 1080x360 with 1 Axes>"
            ]
          },
          "metadata": {
            "tags": [],
            "needs_background": "light"
          }
        },
        {
          "output_type": "display_data",
          "data": {
            "image/png": "[encoded data removed]",
            "text/plain": [
              "<Figure size 1080x360 with 1 Axes>"
            ]
          },
          "metadata": {
            "tags": [],
            "needs_background": "light"
          }
        },
        {
          "output_type": "display_data",
          "data": {
            "image/png": "[encoded data removed]",
            "text/plain": [
              "<Figure size 1080x360 with 1 Axes>"
            ]
          },
          "metadata": {
            "tags": [],
            "needs_background": "light"
          }
        },
        {
          "output_type": "display_data",
          "data": {
            "image/png": "[encoded data removed]",
            "text/plain": [
              "<Figure size 1080x360 with 1 Axes>"
            ]
          },
          "metadata": {
            "tags": [],
            "needs_background": "light"
          }
        },
        {
          "output_type": "display_data",
          "data": {
            "image/png": "[encoded data removed]",
            "text/plain": [
              "<Figure size 1080x360 with 1 Axes>"
            ]
          },
          "metadata": {
            "tags": [],
            "needs_background": "light"
          }
        }
      ]
    },
    {
      "cell_type": "markdown",
      "metadata": {
        "id": "XEpM7yPoIVRR"
      },
      "source": [
        "\n",
        "> race :\n",
        " * Đa phần mẫu ( 75% ) là white => mỹ, châu âu ?? ( trên 5 category )\n",
        "\n",
        "> workclass : \n",
        "*   ~ 60% private ( trên 7 category)\n",
        "*   private ?? \n",
        "*   withoutpay ~ 0\n",
        "\n",
        "\n",
        "\n",
        "\n",
        "\n",
        "\n",
        "\n"
      ]
    },
    {
      "cell_type": "code",
      "metadata": {
        "colab": {
          "base_uri": "https://localhost:8080/"
        },
        "id": "EpikTVH140HM",
        "outputId": "acaf6aa9-af71-4a11-9001-b2b526e86231"
      },
      "source": [
        "df2.race.value_counts()"
      ],
      "execution_count": null,
      "outputs": [
        {
          "output_type": "execute_result",
          "data": {
            "text/plain": [
              "White                 21554\n",
              "Black                  3335\n",
              "Asian-Pac-Islander     1257\n",
              "Amer-Indian-Eskimo      419\n",
              "Other                   359\n",
              "Name: race, dtype: int64"
            ]
          },
          "metadata": {
            "tags": []
          },
          "execution_count": 379
        }
      ]
    },
    {
      "cell_type": "code",
      "metadata": {
        "colab": {
          "base_uri": "https://localhost:8080/"
        },
        "id": "5O02JljbLBvO",
        "outputId": "1601725b-5d66-449e-ea96-3fe2f91cd7ff"
      },
      "source": [
        "df2.workclass.value_counts()"
      ],
      "execution_count": 26,
      "outputs": [
        {
          "output_type": "execute_result",
          "data": {
            "text/plain": [
              "Private             16664\n",
              "Self-emp-not-inc     3263\n",
              "Local-gov            2586\n",
              "State-gov            1708\n",
              "Self-emp-inc         1477\n",
              "Federal-gov          1206\n",
              "Without-pay            20\n",
              "Name: workclass, dtype: int64"
            ]
          },
          "metadata": {
            "tags": []
          },
          "execution_count": 26
        }
      ]
    },
    {
      "cell_type": "markdown",
      "metadata": {
        "id": "VnRd53GczJ0K"
      },
      "source": [
        "# Bước 3 + 4:  Feature engineering + Thống kê mô tả dữ liệu\n"
      ]
    },
    {
      "cell_type": "code",
      "metadata": {
        "colab": {
          "base_uri": "https://localhost:8080/",
          "height": 204
        },
        "id": "pGxs7ej03Gpv",
        "outputId": "71158875-c9e1-4113-b75b-2f5a5c994946"
      },
      "source": [
        "df = pd.read_csv(url)\n",
        "df = df.drop([\"X\", \"Unnamed: 0\"], axis=1)\n",
        "df.columns = [\"age\"\t,\"workclass\"\t,\"education\"\t,\"educational_num\",\t\"marital_status\",\t\"race\",\t\"gender\",\t\"hours_per_week\",\t\"income\"]\n",
        "df = df.drop_duplicates().reindex()\n",
        "df.sample(5)"
      ],
      "execution_count": 28,
      "outputs": [
        {
          "output_type": "execute_result",
          "data": {
            "text/html": [
              "<div>\n",
              "<style scoped>\n",
              "    .dataframe tbody tr th:only-of-type {\n",
              "        vertical-align: middle;\n",
              "    }\n",
              "\n",
              "    .dataframe tbody tr th {\n",
              "        vertical-align: top;\n",
              "    }\n",
              "\n",
              "    .dataframe thead th {\n",
              "        text-align: right;\n",
              "    }\n",
              "</style>\n",
              "<table border=\"1\" class=\"dataframe\">\n",
              "  <thead>\n",
              "    <tr style=\"text-align: right;\">\n",
              "      <th></th>\n",
              "      <th>age</th>\n",
              "      <th>workclass</th>\n",
              "      <th>education</th>\n",
              "      <th>educational_num</th>\n",
              "      <th>marital_status</th>\n",
              "      <th>race</th>\n",
              "      <th>gender</th>\n",
              "      <th>hours_per_week</th>\n",
              "      <th>income</th>\n",
              "    </tr>\n",
              "  </thead>\n",
              "  <tbody>\n",
              "    <tr>\n",
              "      <th>10060</th>\n",
              "      <td>28</td>\n",
              "      <td>Private</td>\n",
              "      <td>Assoc-acdm</td>\n",
              "      <td>12</td>\n",
              "      <td>Never-married</td>\n",
              "      <td>Black</td>\n",
              "      <td>Female</td>\n",
              "      <td>38</td>\n",
              "      <td>&lt;=50K</td>\n",
              "    </tr>\n",
              "    <tr>\n",
              "      <th>25260</th>\n",
              "      <td>36</td>\n",
              "      <td>Private</td>\n",
              "      <td>HS-grad</td>\n",
              "      <td>9</td>\n",
              "      <td>Married-civ-spouse</td>\n",
              "      <td>Black</td>\n",
              "      <td>Male</td>\n",
              "      <td>45</td>\n",
              "      <td>&lt;=50K</td>\n",
              "    </tr>\n",
              "    <tr>\n",
              "      <th>9887</th>\n",
              "      <td>31</td>\n",
              "      <td>Self-emp-not-inc</td>\n",
              "      <td>10th</td>\n",
              "      <td>6</td>\n",
              "      <td>Married-civ-spouse</td>\n",
              "      <td>White</td>\n",
              "      <td>Male</td>\n",
              "      <td>55</td>\n",
              "      <td>&gt;50K</td>\n",
              "    </tr>\n",
              "    <tr>\n",
              "      <th>24222</th>\n",
              "      <td>27</td>\n",
              "      <td>Private</td>\n",
              "      <td>Some-college</td>\n",
              "      <td>10</td>\n",
              "      <td>Never-married</td>\n",
              "      <td>White</td>\n",
              "      <td>Male</td>\n",
              "      <td>24</td>\n",
              "      <td>&lt;=50K</td>\n",
              "    </tr>\n",
              "    <tr>\n",
              "      <th>43107</th>\n",
              "      <td>33</td>\n",
              "      <td>Private</td>\n",
              "      <td>HS-grad</td>\n",
              "      <td>9</td>\n",
              "      <td>Never-married</td>\n",
              "      <td>White</td>\n",
              "      <td>Male</td>\n",
              "      <td>70</td>\n",
              "      <td>&lt;=50K</td>\n",
              "    </tr>\n",
              "  </tbody>\n",
              "</table>\n",
              "</div>"
            ],
            "text/plain": [
              "       age         workclass     education  ...  gender hours_per_week income\n",
              "10060   28           Private    Assoc-acdm  ...  Female             38  <=50K\n",
              "25260   36           Private       HS-grad  ...    Male             45  <=50K\n",
              "9887    31  Self-emp-not-inc          10th  ...    Male             55   >50K\n",
              "24222   27           Private  Some-college  ...    Male             24  <=50K\n",
              "43107   33           Private       HS-grad  ...    Male             70  <=50K\n",
              "\n",
              "[5 rows x 9 columns]"
            ]
          },
          "metadata": {
            "tags": []
          },
          "execution_count": 28
        }
      ]
    },
    {
      "cell_type": "markdown",
      "metadata": {
        "id": "a-SFMsGONkCR"
      },
      "source": [
        "\n",
        "\n",
        "*   outliers : lớn tuổi làm việc nhiều\n",
        "\n",
        "\n"
      ]
    },
    {
      "cell_type": "code",
      "metadata": {
        "colab": {
          "base_uri": "https://localhost:8080/",
          "height": 638
        },
        "id": "wkojT-QbrqBi",
        "outputId": "85e83b03-34ce-4093-e954-7d2eae8fb25c"
      },
      "source": [
        "df.loc[(df.age >= 70) & (df.hours_per_week >= 70)]"
      ],
      "execution_count": 30,
      "outputs": [
        {
          "output_type": "execute_result",
          "data": {
            "text/html": [
              "<div>\n",
              "<style scoped>\n",
              "    .dataframe tbody tr th:only-of-type {\n",
              "        vertical-align: middle;\n",
              "    }\n",
              "\n",
              "    .dataframe tbody tr th {\n",
              "        vertical-align: top;\n",
              "    }\n",
              "\n",
              "    .dataframe thead th {\n",
              "        text-align: right;\n",
              "    }\n",
              "</style>\n",
              "<table border=\"1\" class=\"dataframe\">\n",
              "  <thead>\n",
              "    <tr style=\"text-align: right;\">\n",
              "      <th></th>\n",
              "      <th>age</th>\n",
              "      <th>workclass</th>\n",
              "      <th>education</th>\n",
              "      <th>educational_num</th>\n",
              "      <th>marital_status</th>\n",
              "      <th>race</th>\n",
              "      <th>gender</th>\n",
              "      <th>hours_per_week</th>\n",
              "      <th>income</th>\n",
              "    </tr>\n",
              "  </thead>\n",
              "  <tbody>\n",
              "    <tr>\n",
              "      <th>445</th>\n",
              "      <td>73</td>\n",
              "      <td>Self-emp-not-inc</td>\n",
              "      <td>Some-college</td>\n",
              "      <td>10</td>\n",
              "      <td>Widowed</td>\n",
              "      <td>White</td>\n",
              "      <td>Female</td>\n",
              "      <td>75</td>\n",
              "      <td>&lt;=50K</td>\n",
              "    </tr>\n",
              "    <tr>\n",
              "      <th>2975</th>\n",
              "      <td>73</td>\n",
              "      <td>Self-emp-not-inc</td>\n",
              "      <td>HS-grad</td>\n",
              "      <td>9</td>\n",
              "      <td>Widowed</td>\n",
              "      <td>White</td>\n",
              "      <td>Male</td>\n",
              "      <td>77</td>\n",
              "      <td>&lt;=50K</td>\n",
              "    </tr>\n",
              "    <tr>\n",
              "      <th>7912</th>\n",
              "      <td>90</td>\n",
              "      <td>Federal-gov</td>\n",
              "      <td>Masters</td>\n",
              "      <td>14</td>\n",
              "      <td>Divorced</td>\n",
              "      <td>White</td>\n",
              "      <td>Male</td>\n",
              "      <td>99</td>\n",
              "      <td>&lt;=50K</td>\n",
              "    </tr>\n",
              "    <tr>\n",
              "      <th>8155</th>\n",
              "      <td>73</td>\n",
              "      <td>Self-emp-not-inc</td>\n",
              "      <td>7th-8th</td>\n",
              "      <td>4</td>\n",
              "      <td>Never-married</td>\n",
              "      <td>White</td>\n",
              "      <td>Female</td>\n",
              "      <td>99</td>\n",
              "      <td>&lt;=50K</td>\n",
              "    </tr>\n",
              "    <tr>\n",
              "      <th>12168</th>\n",
              "      <td>72</td>\n",
              "      <td>Self-emp-not-inc</td>\n",
              "      <td>HS-grad</td>\n",
              "      <td>9</td>\n",
              "      <td>Married-civ-spouse</td>\n",
              "      <td>White</td>\n",
              "      <td>Male</td>\n",
              "      <td>70</td>\n",
              "      <td>&lt;=50K</td>\n",
              "    </tr>\n",
              "    <tr>\n",
              "      <th>13860</th>\n",
              "      <td>71</td>\n",
              "      <td>Self-emp-not-inc</td>\n",
              "      <td>11th</td>\n",
              "      <td>7</td>\n",
              "      <td>Married-civ-spouse</td>\n",
              "      <td>White</td>\n",
              "      <td>Male</td>\n",
              "      <td>75</td>\n",
              "      <td>&gt;50K</td>\n",
              "    </tr>\n",
              "    <tr>\n",
              "      <th>14202</th>\n",
              "      <td>71</td>\n",
              "      <td>Self-emp-not-inc</td>\n",
              "      <td>Masters</td>\n",
              "      <td>14</td>\n",
              "      <td>Married-civ-spouse</td>\n",
              "      <td>White</td>\n",
              "      <td>Male</td>\n",
              "      <td>70</td>\n",
              "      <td>&lt;=50K</td>\n",
              "    </tr>\n",
              "    <tr>\n",
              "      <th>17334</th>\n",
              "      <td>75</td>\n",
              "      <td>Private</td>\n",
              "      <td>10th</td>\n",
              "      <td>6</td>\n",
              "      <td>Widowed</td>\n",
              "      <td>White</td>\n",
              "      <td>Female</td>\n",
              "      <td>70</td>\n",
              "      <td>&lt;=50K</td>\n",
              "    </tr>\n",
              "    <tr>\n",
              "      <th>17805</th>\n",
              "      <td>70</td>\n",
              "      <td>Private</td>\n",
              "      <td>Bachelors</td>\n",
              "      <td>13</td>\n",
              "      <td>Married-civ-spouse</td>\n",
              "      <td>White</td>\n",
              "      <td>Male</td>\n",
              "      <td>70</td>\n",
              "      <td>&gt;50K</td>\n",
              "    </tr>\n",
              "    <tr>\n",
              "      <th>23504</th>\n",
              "      <td>70</td>\n",
              "      <td>Private</td>\n",
              "      <td>Some-college</td>\n",
              "      <td>10</td>\n",
              "      <td>Divorced</td>\n",
              "      <td>White</td>\n",
              "      <td>Male</td>\n",
              "      <td>80</td>\n",
              "      <td>&lt;=50K</td>\n",
              "    </tr>\n",
              "    <tr>\n",
              "      <th>23598</th>\n",
              "      <td>90</td>\n",
              "      <td>Private</td>\n",
              "      <td>Prof-school</td>\n",
              "      <td>15</td>\n",
              "      <td>Married-civ-spouse</td>\n",
              "      <td>White</td>\n",
              "      <td>Male</td>\n",
              "      <td>72</td>\n",
              "      <td>&gt;50K</td>\n",
              "    </tr>\n",
              "    <tr>\n",
              "      <th>29803</th>\n",
              "      <td>90</td>\n",
              "      <td>Private</td>\n",
              "      <td>HS-grad</td>\n",
              "      <td>9</td>\n",
              "      <td>Widowed</td>\n",
              "      <td>White</td>\n",
              "      <td>Male</td>\n",
              "      <td>99</td>\n",
              "      <td>&lt;=50K</td>\n",
              "    </tr>\n",
              "    <tr>\n",
              "      <th>30981</th>\n",
              "      <td>73</td>\n",
              "      <td>Self-emp-not-inc</td>\n",
              "      <td>7th-8th</td>\n",
              "      <td>4</td>\n",
              "      <td>Married-civ-spouse</td>\n",
              "      <td>White</td>\n",
              "      <td>Male</td>\n",
              "      <td>99</td>\n",
              "      <td>&gt;50K</td>\n",
              "    </tr>\n",
              "    <tr>\n",
              "      <th>32648</th>\n",
              "      <td>70</td>\n",
              "      <td>Self-emp-not-inc</td>\n",
              "      <td>Some-college</td>\n",
              "      <td>10</td>\n",
              "      <td>Married-civ-spouse</td>\n",
              "      <td>White</td>\n",
              "      <td>Male</td>\n",
              "      <td>70</td>\n",
              "      <td>&lt;=50K</td>\n",
              "    </tr>\n",
              "    <tr>\n",
              "      <th>34194</th>\n",
              "      <td>72</td>\n",
              "      <td>Private</td>\n",
              "      <td>7th-8th</td>\n",
              "      <td>4</td>\n",
              "      <td>Widowed</td>\n",
              "      <td>White</td>\n",
              "      <td>Female</td>\n",
              "      <td>99</td>\n",
              "      <td>&lt;=50K</td>\n",
              "    </tr>\n",
              "    <tr>\n",
              "      <th>34919</th>\n",
              "      <td>71</td>\n",
              "      <td>Private</td>\n",
              "      <td>11th</td>\n",
              "      <td>7</td>\n",
              "      <td>Never-married</td>\n",
              "      <td>White</td>\n",
              "      <td>Female</td>\n",
              "      <td>75</td>\n",
              "      <td>&lt;=50K</td>\n",
              "    </tr>\n",
              "    <tr>\n",
              "      <th>37615</th>\n",
              "      <td>72</td>\n",
              "      <td>Self-emp-not-inc</td>\n",
              "      <td>Some-college</td>\n",
              "      <td>10</td>\n",
              "      <td>Married-civ-spouse</td>\n",
              "      <td>White</td>\n",
              "      <td>Male</td>\n",
              "      <td>74</td>\n",
              "      <td>&lt;=50K</td>\n",
              "    </tr>\n",
              "    <tr>\n",
              "      <th>41570</th>\n",
              "      <td>71</td>\n",
              "      <td>Private</td>\n",
              "      <td>5th-6th</td>\n",
              "      <td>3</td>\n",
              "      <td>Widowed</td>\n",
              "      <td>Asian-Pac-Islander</td>\n",
              "      <td>Female</td>\n",
              "      <td>75</td>\n",
              "      <td>&lt;=50K</td>\n",
              "    </tr>\n",
              "    <tr>\n",
              "      <th>42087</th>\n",
              "      <td>73</td>\n",
              "      <td>Private</td>\n",
              "      <td>Bachelors</td>\n",
              "      <td>13</td>\n",
              "      <td>Married-civ-spouse</td>\n",
              "      <td>White</td>\n",
              "      <td>Male</td>\n",
              "      <td>75</td>\n",
              "      <td>&lt;=50K</td>\n",
              "    </tr>\n",
              "  </tbody>\n",
              "</table>\n",
              "</div>"
            ],
            "text/plain": [
              "       age         workclass     education  ...  gender hours_per_week income\n",
              "445     73  Self-emp-not-inc  Some-college  ...  Female             75  <=50K\n",
              "2975    73  Self-emp-not-inc       HS-grad  ...    Male             77  <=50K\n",
              "7912    90       Federal-gov       Masters  ...    Male             99  <=50K\n",
              "8155    73  Self-emp-not-inc       7th-8th  ...  Female             99  <=50K\n",
              "12168   72  Self-emp-not-inc       HS-grad  ...    Male             70  <=50K\n",
              "13860   71  Self-emp-not-inc          11th  ...    Male             75   >50K\n",
              "14202   71  Self-emp-not-inc       Masters  ...    Male             70  <=50K\n",
              "17334   75           Private          10th  ...  Female             70  <=50K\n",
              "17805   70           Private     Bachelors  ...    Male             70   >50K\n",
              "23504   70           Private  Some-college  ...    Male             80  <=50K\n",
              "23598   90           Private   Prof-school  ...    Male             72   >50K\n",
              "29803   90           Private       HS-grad  ...    Male             99  <=50K\n",
              "30981   73  Self-emp-not-inc       7th-8th  ...    Male             99   >50K\n",
              "32648   70  Self-emp-not-inc  Some-college  ...    Male             70  <=50K\n",
              "34194   72           Private       7th-8th  ...  Female             99  <=50K\n",
              "34919   71           Private          11th  ...  Female             75  <=50K\n",
              "37615   72  Self-emp-not-inc  Some-college  ...    Male             74  <=50K\n",
              "41570   71           Private       5th-6th  ...  Female             75  <=50K\n",
              "42087   73           Private     Bachelors  ...    Male             75  <=50K\n",
              "\n",
              "[19 rows x 9 columns]"
            ]
          },
          "metadata": {
            "tags": []
          },
          "execution_count": 30
        }
      ]
    },
    {
      "cell_type": "markdown",
      "metadata": {
        "id": "khMcU_xZNPYT"
      },
      "source": [
        "\n",
        "\n",
        "*   Lớn tuổi làm việc nhiều => thường là male và có thể thu nhập cao\n",
        "*   female => thu nhập k cao\n",
        "\n"
      ]
    },
    {
      "cell_type": "code",
      "metadata": {
        "id": "WZ-HCCS7XOtG"
      },
      "source": [
        "# df.income = LabelEncoder().fit([\"<=50K\", \">50K\"]).transform(df.income).astype(\"int64\")"
      ],
      "execution_count": null,
      "outputs": []
    },
    {
      "cell_type": "code",
      "metadata": {
        "colab": {
          "base_uri": "https://localhost:8080/",
          "height": 297
        },
        "id": "XIFJYAzsUlZP",
        "outputId": "388fd8d0-b5ef-40f2-adac-ab2fc008d29d"
      },
      "source": [
        "# df_workclass_education = pd.crosstab(index=df.workclass, columns=df.education).reindex(columns=[\"Preschool\", \"1st-4th\", \"5th-6th\", \"7th-8th\", \"9th\",\n",
        "#                                       \"10th\", \"11th\", \"12th\", \"HS-grad\",\"Some-college\",\n",
        "#                                      \"Assoc-voc\", \"Assoc-acdm\", \"Bachelors\",\n",
        "#                                      \"Masters\", \"Prof-school\",\"Doctorate\"])\n",
        "# df_workclass_education"
      ],
      "execution_count": null,
      "outputs": [
        {
          "output_type": "execute_result",
          "data": {
            "text/html": [
              "<div>\n",
              "<style scoped>\n",
              "    .dataframe tbody tr th:only-of-type {\n",
              "        vertical-align: middle;\n",
              "    }\n",
              "\n",
              "    .dataframe tbody tr th {\n",
              "        vertical-align: top;\n",
              "    }\n",
              "\n",
              "    .dataframe thead th {\n",
              "        text-align: right;\n",
              "    }\n",
              "</style>\n",
              "<table border=\"1\" class=\"dataframe\">\n",
              "  <thead>\n",
              "    <tr style=\"text-align: right;\">\n",
              "      <th>education</th>\n",
              "      <th>Preschool</th>\n",
              "      <th>1st-4th</th>\n",
              "      <th>5th-6th</th>\n",
              "      <th>7th-8th</th>\n",
              "      <th>9th</th>\n",
              "      <th>10th</th>\n",
              "      <th>11th</th>\n",
              "      <th>12th</th>\n",
              "      <th>HS-grad</th>\n",
              "      <th>Some-college</th>\n",
              "      <th>Assoc-voc</th>\n",
              "      <th>Assoc-acdm</th>\n",
              "      <th>Bachelors</th>\n",
              "      <th>Masters</th>\n",
              "      <th>Prof-school</th>\n",
              "      <th>Doctorate</th>\n",
              "    </tr>\n",
              "    <tr>\n",
              "      <th>workclass</th>\n",
              "      <th></th>\n",
              "      <th></th>\n",
              "      <th></th>\n",
              "      <th></th>\n",
              "      <th></th>\n",
              "      <th></th>\n",
              "      <th></th>\n",
              "      <th></th>\n",
              "      <th></th>\n",
              "      <th></th>\n",
              "      <th></th>\n",
              "      <th></th>\n",
              "      <th></th>\n",
              "      <th></th>\n",
              "      <th></th>\n",
              "      <th></th>\n",
              "    </tr>\n",
              "  </thead>\n",
              "  <tbody>\n",
              "    <tr>\n",
              "      <th>Federal-gov</th>\n",
              "      <td>0</td>\n",
              "      <td>1</td>\n",
              "      <td>1</td>\n",
              "      <td>4</td>\n",
              "      <td>6</td>\n",
              "      <td>15</td>\n",
              "      <td>14</td>\n",
              "      <td>7</td>\n",
              "      <td>312</td>\n",
              "      <td>304</td>\n",
              "      <td>59</td>\n",
              "      <td>77</td>\n",
              "      <td>253</td>\n",
              "      <td>94</td>\n",
              "      <td>37</td>\n",
              "      <td>22</td>\n",
              "    </tr>\n",
              "    <tr>\n",
              "      <th>Local-gov</th>\n",
              "      <td>4</td>\n",
              "      <td>5</td>\n",
              "      <td>13</td>\n",
              "      <td>39</td>\n",
              "      <td>29</td>\n",
              "      <td>51</td>\n",
              "      <td>60</td>\n",
              "      <td>25</td>\n",
              "      <td>579</td>\n",
              "      <td>464</td>\n",
              "      <td>120</td>\n",
              "      <td>124</td>\n",
              "      <td>561</td>\n",
              "      <td>437</td>\n",
              "      <td>41</td>\n",
              "      <td>34</td>\n",
              "    </tr>\n",
              "    <tr>\n",
              "      <th>Private</th>\n",
              "      <td>58</td>\n",
              "      <td>174</td>\n",
              "      <td>319</td>\n",
              "      <td>487</td>\n",
              "      <td>453</td>\n",
              "      <td>694</td>\n",
              "      <td>829</td>\n",
              "      <td>370</td>\n",
              "      <td>4431</td>\n",
              "      <td>3228</td>\n",
              "      <td>954</td>\n",
              "      <td>809</td>\n",
              "      <td>2383</td>\n",
              "      <td>939</td>\n",
              "      <td>313</td>\n",
              "      <td>223</td>\n",
              "    </tr>\n",
              "    <tr>\n",
              "      <th>Self-emp-inc</th>\n",
              "      <td>0</td>\n",
              "      <td>2</td>\n",
              "      <td>8</td>\n",
              "      <td>20</td>\n",
              "      <td>13</td>\n",
              "      <td>27</td>\n",
              "      <td>23</td>\n",
              "      <td>12</td>\n",
              "      <td>361</td>\n",
              "      <td>287</td>\n",
              "      <td>58</td>\n",
              "      <td>55</td>\n",
              "      <td>345</td>\n",
              "      <td>102</td>\n",
              "      <td>111</td>\n",
              "      <td>53</td>\n",
              "    </tr>\n",
              "    <tr>\n",
              "      <th>Self-emp-not-inc</th>\n",
              "      <td>5</td>\n",
              "      <td>16</td>\n",
              "      <td>32</td>\n",
              "      <td>129</td>\n",
              "      <td>55</td>\n",
              "      <td>101</td>\n",
              "      <td>102</td>\n",
              "      <td>30</td>\n",
              "      <td>957</td>\n",
              "      <td>628</td>\n",
              "      <td>163</td>\n",
              "      <td>107</td>\n",
              "      <td>500</td>\n",
              "      <td>196</td>\n",
              "      <td>167</td>\n",
              "      <td>75</td>\n",
              "    </tr>\n",
              "    <tr>\n",
              "      <th>State-gov</th>\n",
              "      <td>1</td>\n",
              "      <td>2</td>\n",
              "      <td>4</td>\n",
              "      <td>16</td>\n",
              "      <td>10</td>\n",
              "      <td>18</td>\n",
              "      <td>15</td>\n",
              "      <td>11</td>\n",
              "      <td>334</td>\n",
              "      <td>397</td>\n",
              "      <td>71</td>\n",
              "      <td>62</td>\n",
              "      <td>370</td>\n",
              "      <td>239</td>\n",
              "      <td>45</td>\n",
              "      <td>113</td>\n",
              "    </tr>\n",
              "    <tr>\n",
              "      <th>Without-pay</th>\n",
              "      <td>0</td>\n",
              "      <td>0</td>\n",
              "      <td>0</td>\n",
              "      <td>2</td>\n",
              "      <td>0</td>\n",
              "      <td>0</td>\n",
              "      <td>0</td>\n",
              "      <td>0</td>\n",
              "      <td>13</td>\n",
              "      <td>3</td>\n",
              "      <td>0</td>\n",
              "      <td>2</td>\n",
              "      <td>0</td>\n",
              "      <td>0</td>\n",
              "      <td>0</td>\n",
              "      <td>0</td>\n",
              "    </tr>\n",
              "  </tbody>\n",
              "</table>\n",
              "</div>"
            ],
            "text/plain": [
              "education         Preschool  1st-4th  5th-6th  ...  Masters  Prof-school  Doctorate\n",
              "workclass                                      ...                                 \n",
              "Federal-gov               0        1        1  ...       94           37         22\n",
              "Local-gov                 4        5       13  ...      437           41         34\n",
              "Private                  58      174      319  ...      939          313        223\n",
              "Self-emp-inc              0        2        8  ...      102          111         53\n",
              "Self-emp-not-inc          5       16       32  ...      196          167         75\n",
              "State-gov                 1        2        4  ...      239           45        113\n",
              "Without-pay               0        0        0  ...        0            0          0\n",
              "\n",
              "[7 rows x 16 columns]"
            ]
          },
          "metadata": {
            "tags": []
          },
          "execution_count": 95
        }
      ]
    },
    {
      "cell_type": "code",
      "metadata": {
        "colab": {
          "base_uri": "https://localhost:8080/",
          "height": 355
        },
        "id": "nU3epdcgWL_9",
        "outputId": "6b62104f-19f9-43b6-a10f-5c74964b968f"
      },
      "source": [
        "# sns.heatmap(data=df_workclass_education, cmap = \"Blues\")"
      ],
      "execution_count": null,
      "outputs": [
        {
          "output_type": "execute_result",
          "data": {
            "text/plain": [
              "<matplotlib.axes._subplots.AxesSubplot at 0x7fa6f368cf50>"
            ]
          },
          "metadata": {
            "tags": []
          },
          "execution_count": 97
        },
        {
          "output_type": "display_data",
          "data": {
            "image/png": "[encoded data removed]",
            "text/plain": [
              "<Figure size 432x288 with 2 Axes>"
            ]
          },
          "metadata": {
            "tags": [],
            "needs_background": "light"
          }
        }
      ]
    },
    {
      "cell_type": "code",
      "metadata": {
        "colab": {
          "base_uri": "https://localhost:8080/",
          "height": 1000
        },
        "id": "pAeQFCiPZ6nZ",
        "outputId": "546c88c0-658b-441b-9a70-ec98e0d6776c"
      },
      "source": [
        "df1 = df.copy()\n",
        "df1 = pd.get_dummies(df, columns= [\"income\"])\n",
        "pd.DataFrame(df1.groupby(by = [\"education\",\"workclass\" ]).sum()[[\"income_<=50K\", \"income_>50K\"]]).sort_values(by = \"income_>50K\", ascending=False)"
      ],
      "execution_count": null,
      "outputs": [
        {
          "output_type": "execute_result",
          "data": {
            "text/html": [
              "<div>\n",
              "<style scoped>\n",
              "    .dataframe tbody tr th:only-of-type {\n",
              "        vertical-align: middle;\n",
              "    }\n",
              "\n",
              "    .dataframe tbody tr th {\n",
              "        vertical-align: top;\n",
              "    }\n",
              "\n",
              "    .dataframe thead th {\n",
              "        text-align: right;\n",
              "    }\n",
              "</style>\n",
              "<table border=\"1\" class=\"dataframe\">\n",
              "  <thead>\n",
              "    <tr style=\"text-align: right;\">\n",
              "      <th></th>\n",
              "      <th></th>\n",
              "      <th>income_&lt;=50K</th>\n",
              "      <th>income_&gt;50K</th>\n",
              "    </tr>\n",
              "    <tr>\n",
              "      <th>education</th>\n",
              "      <th>workclass</th>\n",
              "      <th></th>\n",
              "      <th></th>\n",
              "    </tr>\n",
              "  </thead>\n",
              "  <tbody>\n",
              "    <tr>\n",
              "      <th>Bachelors</th>\n",
              "      <th>Private</th>\n",
              "      <td>1449.0</td>\n",
              "      <td>934.0</td>\n",
              "    </tr>\n",
              "    <tr>\n",
              "      <th>HS-grad</th>\n",
              "      <th>Private</th>\n",
              "      <td>3756.0</td>\n",
              "      <td>675.0</td>\n",
              "    </tr>\n",
              "    <tr>\n",
              "      <th>Some-college</th>\n",
              "      <th>Private</th>\n",
              "      <td>2575.0</td>\n",
              "      <td>653.0</td>\n",
              "    </tr>\n",
              "    <tr>\n",
              "      <th>Masters</th>\n",
              "      <th>Private</th>\n",
              "      <td>461.0</td>\n",
              "      <td>478.0</td>\n",
              "    </tr>\n",
              "    <tr>\n",
              "      <th>Assoc-voc</th>\n",
              "      <th>Private</th>\n",
              "      <td>713.0</td>\n",
              "      <td>241.0</td>\n",
              "    </tr>\n",
              "    <tr>\n",
              "      <th>Masters</th>\n",
              "      <th>Local-gov</th>\n",
              "      <td>223.0</td>\n",
              "      <td>214.0</td>\n",
              "    </tr>\n",
              "    <tr>\n",
              "      <th>Prof-school</th>\n",
              "      <th>Private</th>\n",
              "      <td>108.0</td>\n",
              "      <td>205.0</td>\n",
              "    </tr>\n",
              "    <tr>\n",
              "      <th>Assoc-acdm</th>\n",
              "      <th>Private</th>\n",
              "      <td>607.0</td>\n",
              "      <td>202.0</td>\n",
              "    </tr>\n",
              "    <tr>\n",
              "      <th>Bachelors</th>\n",
              "      <th>Self-emp-inc</th>\n",
              "      <td>145.0</td>\n",
              "      <td>200.0</td>\n",
              "    </tr>\n",
              "    <tr>\n",
              "      <th>HS-grad</th>\n",
              "      <th>Self-emp-not-inc</th>\n",
              "      <td>758.0</td>\n",
              "      <td>199.0</td>\n",
              "    </tr>\n",
              "    <tr>\n",
              "      <th rowspan=\"2\" valign=\"top\">Bachelors</th>\n",
              "      <th>Self-emp-not-inc</th>\n",
              "      <td>313.0</td>\n",
              "      <td>187.0</td>\n",
              "    </tr>\n",
              "    <tr>\n",
              "      <th>Local-gov</th>\n",
              "      <td>380.0</td>\n",
              "      <td>181.0</td>\n",
              "    </tr>\n",
              "    <tr>\n",
              "      <th>Doctorate</th>\n",
              "      <th>Private</th>\n",
              "      <td>72.0</td>\n",
              "      <td>151.0</td>\n",
              "    </tr>\n",
              "    <tr>\n",
              "      <th>Some-college</th>\n",
              "      <th>Self-emp-not-inc</th>\n",
              "      <td>480.0</td>\n",
              "      <td>148.0</td>\n",
              "    </tr>\n",
              "    <tr>\n",
              "      <th>HS-grad</th>\n",
              "      <th>Self-emp-inc</th>\n",
              "      <td>221.0</td>\n",
              "      <td>140.0</td>\n",
              "    </tr>\n",
              "    <tr>\n",
              "      <th>Some-college</th>\n",
              "      <th>Self-emp-inc</th>\n",
              "      <td>152.0</td>\n",
              "      <td>135.0</td>\n",
              "    </tr>\n",
              "    <tr>\n",
              "      <th>Prof-school</th>\n",
              "      <th>Self-emp-not-inc</th>\n",
              "      <td>39.0</td>\n",
              "      <td>128.0</td>\n",
              "    </tr>\n",
              "    <tr>\n",
              "      <th>Bachelors</th>\n",
              "      <th>State-gov</th>\n",
              "      <td>245.0</td>\n",
              "      <td>125.0</td>\n",
              "    </tr>\n",
              "    <tr>\n",
              "      <th>HS-grad</th>\n",
              "      <th>Local-gov</th>\n",
              "      <td>468.0</td>\n",
              "      <td>111.0</td>\n",
              "    </tr>\n",
              "    <tr>\n",
              "      <th>Bachelors</th>\n",
              "      <th>Federal-gov</th>\n",
              "      <td>143.0</td>\n",
              "      <td>110.0</td>\n",
              "    </tr>\n",
              "    <tr>\n",
              "      <th>Some-college</th>\n",
              "      <th>Local-gov</th>\n",
              "      <td>358.0</td>\n",
              "      <td>106.0</td>\n",
              "    </tr>\n",
              "    <tr>\n",
              "      <th>Prof-school</th>\n",
              "      <th>Self-emp-inc</th>\n",
              "      <td>7.0</td>\n",
              "      <td>104.0</td>\n",
              "    </tr>\n",
              "    <tr>\n",
              "      <th rowspan=\"2\" valign=\"top\">Masters</th>\n",
              "      <th>State-gov</th>\n",
              "      <td>141.0</td>\n",
              "      <td>98.0</td>\n",
              "    </tr>\n",
              "    <tr>\n",
              "      <th>Self-emp-not-inc</th>\n",
              "      <td>108.0</td>\n",
              "      <td>88.0</td>\n",
              "    </tr>\n",
              "    <tr>\n",
              "      <th>Some-college</th>\n",
              "      <th>Federal-gov</th>\n",
              "      <td>216.0</td>\n",
              "      <td>88.0</td>\n",
              "    </tr>\n",
              "    <tr>\n",
              "      <th>Doctorate</th>\n",
              "      <th>State-gov</th>\n",
              "      <td>33.0</td>\n",
              "      <td>80.0</td>\n",
              "    </tr>\n",
              "    <tr>\n",
              "      <th>HS-grad</th>\n",
              "      <th>Federal-gov</th>\n",
              "      <td>236.0</td>\n",
              "      <td>76.0</td>\n",
              "    </tr>\n",
              "    <tr>\n",
              "      <th>Masters</th>\n",
              "      <th>Self-emp-inc</th>\n",
              "      <td>31.0</td>\n",
              "      <td>71.0</td>\n",
              "    </tr>\n",
              "    <tr>\n",
              "      <th>11th</th>\n",
              "      <th>Private</th>\n",
              "      <td>766.0</td>\n",
              "      <td>63.0</td>\n",
              "    </tr>\n",
              "    <tr>\n",
              "      <th>HS-grad</th>\n",
              "      <th>State-gov</th>\n",
              "      <td>272.0</td>\n",
              "      <td>62.0</td>\n",
              "    </tr>\n",
              "    <tr>\n",
              "      <th>Masters</th>\n",
              "      <th>Federal-gov</th>\n",
              "      <td>33.0</td>\n",
              "      <td>61.0</td>\n",
              "    </tr>\n",
              "    <tr>\n",
              "      <th>Some-college</th>\n",
              "      <th>State-gov</th>\n",
              "      <td>345.0</td>\n",
              "      <td>52.0</td>\n",
              "    </tr>\n",
              "    <tr>\n",
              "      <th>Doctorate</th>\n",
              "      <th>Self-emp-not-inc</th>\n",
              "      <td>25.0</td>\n",
              "      <td>50.0</td>\n",
              "    </tr>\n",
              "    <tr>\n",
              "      <th>10th</th>\n",
              "      <th>Private</th>\n",
              "      <td>649.0</td>\n",
              "      <td>45.0</td>\n",
              "    </tr>\n",
              "    <tr>\n",
              "      <th>Doctorate</th>\n",
              "      <th>Self-emp-inc</th>\n",
              "      <td>9.0</td>\n",
              "      <td>44.0</td>\n",
              "    </tr>\n",
              "    <tr>\n",
              "      <th>Assoc-acdm</th>\n",
              "      <th>Local-gov</th>\n",
              "      <td>82.0</td>\n",
              "      <td>42.0</td>\n",
              "    </tr>\n",
              "    <tr>\n",
              "      <th>Assoc-voc</th>\n",
              "      <th>Self-emp-not-inc</th>\n",
              "      <td>125.0</td>\n",
              "      <td>38.0</td>\n",
              "    </tr>\n",
              "    <tr>\n",
              "      <th>12th</th>\n",
              "      <th>Private</th>\n",
              "      <td>338.0</td>\n",
              "      <td>32.0</td>\n",
              "    </tr>\n",
              "    <tr>\n",
              "      <th>7th-8th</th>\n",
              "      <th>Private</th>\n",
              "      <td>456.0</td>\n",
              "      <td>31.0</td>\n",
              "    </tr>\n",
              "    <tr>\n",
              "      <th>Assoc-voc</th>\n",
              "      <th>Local-gov</th>\n",
              "      <td>90.0</td>\n",
              "      <td>30.0</td>\n",
              "    </tr>\n",
              "    <tr>\n",
              "      <th>Assoc-acdm</th>\n",
              "      <th>Self-emp-inc</th>\n",
              "      <td>26.0</td>\n",
              "      <td>29.0</td>\n",
              "    </tr>\n",
              "    <tr>\n",
              "      <th>Prof-school</th>\n",
              "      <th>Federal-gov</th>\n",
              "      <td>8.0</td>\n",
              "      <td>29.0</td>\n",
              "    </tr>\n",
              "    <tr>\n",
              "      <th>Assoc-acdm</th>\n",
              "      <th>Federal-gov</th>\n",
              "      <td>49.0</td>\n",
              "      <td>28.0</td>\n",
              "    </tr>\n",
              "    <tr>\n",
              "      <th>9th</th>\n",
              "      <th>Private</th>\n",
              "      <td>425.0</td>\n",
              "      <td>28.0</td>\n",
              "    </tr>\n",
              "    <tr>\n",
              "      <th>Prof-school</th>\n",
              "      <th>Local-gov</th>\n",
              "      <td>14.0</td>\n",
              "      <td>27.0</td>\n",
              "    </tr>\n",
              "    <tr>\n",
              "      <th>Assoc-voc</th>\n",
              "      <th>Self-emp-inc</th>\n",
              "      <td>32.0</td>\n",
              "      <td>26.0</td>\n",
              "    </tr>\n",
              "    <tr>\n",
              "      <th>Prof-school</th>\n",
              "      <th>State-gov</th>\n",
              "      <td>19.0</td>\n",
              "      <td>26.0</td>\n",
              "    </tr>\n",
              "    <tr>\n",
              "      <th>Assoc-acdm</th>\n",
              "      <th>Self-emp-not-inc</th>\n",
              "      <td>82.0</td>\n",
              "      <td>25.0</td>\n",
              "    </tr>\n",
              "    <tr>\n",
              "      <th>Doctorate</th>\n",
              "      <th>Local-gov</th>\n",
              "      <td>11.0</td>\n",
              "      <td>23.0</td>\n",
              "    </tr>\n",
              "    <tr>\n",
              "      <th>Assoc-voc</th>\n",
              "      <th>State-gov</th>\n",
              "      <td>51.0</td>\n",
              "      <td>20.0</td>\n",
              "    </tr>\n",
              "    <tr>\n",
              "      <th>Doctorate</th>\n",
              "      <th>Federal-gov</th>\n",
              "      <td>3.0</td>\n",
              "      <td>19.0</td>\n",
              "    </tr>\n",
              "    <tr>\n",
              "      <th>Assoc-voc</th>\n",
              "      <th>Federal-gov</th>\n",
              "      <td>40.0</td>\n",
              "      <td>19.0</td>\n",
              "    </tr>\n",
              "    <tr>\n",
              "      <th>7th-8th</th>\n",
              "      <th>Self-emp-not-inc</th>\n",
              "      <td>111.0</td>\n",
              "      <td>18.0</td>\n",
              "    </tr>\n",
              "    <tr>\n",
              "      <th>5th-6th</th>\n",
              "      <th>Private</th>\n",
              "      <td>304.0</td>\n",
              "      <td>15.0</td>\n",
              "    </tr>\n",
              "    <tr>\n",
              "      <th>11th</th>\n",
              "      <th>Self-emp-not-inc</th>\n",
              "      <td>89.0</td>\n",
              "      <td>13.0</td>\n",
              "    </tr>\n",
              "    <tr>\n",
              "      <th>10th</th>\n",
              "      <th>Self-emp-not-inc</th>\n",
              "      <td>90.0</td>\n",
              "      <td>11.0</td>\n",
              "    </tr>\n",
              "    <tr>\n",
              "      <th>Assoc-acdm</th>\n",
              "      <th>State-gov</th>\n",
              "      <td>55.0</td>\n",
              "      <td>7.0</td>\n",
              "    </tr>\n",
              "    <tr>\n",
              "      <th>11th</th>\n",
              "      <th>Self-emp-inc</th>\n",
              "      <td>16.0</td>\n",
              "      <td>7.0</td>\n",
              "    </tr>\n",
              "    <tr>\n",
              "      <th>1st-4th</th>\n",
              "      <th>Private</th>\n",
              "      <td>167.0</td>\n",
              "      <td>7.0</td>\n",
              "    </tr>\n",
              "    <tr>\n",
              "      <th>7th-8th</th>\n",
              "      <th>Self-emp-inc</th>\n",
              "      <td>14.0</td>\n",
              "      <td>6.0</td>\n",
              "    </tr>\n",
              "    <tr>\n",
              "      <th>10th</th>\n",
              "      <th>Self-emp-inc</th>\n",
              "      <td>21.0</td>\n",
              "      <td>6.0</td>\n",
              "    </tr>\n",
              "    <tr>\n",
              "      <th>9th</th>\n",
              "      <th>Self-emp-not-inc</th>\n",
              "      <td>49.0</td>\n",
              "      <td>6.0</td>\n",
              "    </tr>\n",
              "    <tr>\n",
              "      <th>5th-6th</th>\n",
              "      <th>Self-emp-not-inc</th>\n",
              "      <td>26.0</td>\n",
              "      <td>6.0</td>\n",
              "    </tr>\n",
              "    <tr>\n",
              "      <th>12th</th>\n",
              "      <th>Self-emp-not-inc</th>\n",
              "      <td>25.0</td>\n",
              "      <td>5.0</td>\n",
              "    </tr>\n",
              "    <tr>\n",
              "      <th>9th</th>\n",
              "      <th>Local-gov</th>\n",
              "      <td>25.0</td>\n",
              "      <td>4.0</td>\n",
              "    </tr>\n",
              "    <tr>\n",
              "      <th>10th</th>\n",
              "      <th>State-gov</th>\n",
              "      <td>15.0</td>\n",
              "      <td>3.0</td>\n",
              "    </tr>\n",
              "    <tr>\n",
              "      <th>5th-6th</th>\n",
              "      <th>Self-emp-inc</th>\n",
              "      <td>5.0</td>\n",
              "      <td>3.0</td>\n",
              "    </tr>\n",
              "    <tr>\n",
              "      <th>11th</th>\n",
              "      <th>Local-gov</th>\n",
              "      <td>57.0</td>\n",
              "      <td>3.0</td>\n",
              "    </tr>\n",
              "    <tr>\n",
              "      <th>12th</th>\n",
              "      <th>Local-gov</th>\n",
              "      <td>23.0</td>\n",
              "      <td>2.0</td>\n",
              "    </tr>\n",
              "    <tr>\n",
              "      <th>HS-grad</th>\n",
              "      <th>Without-pay</th>\n",
              "      <td>11.0</td>\n",
              "      <td>2.0</td>\n",
              "    </tr>\n",
              "    <tr>\n",
              "      <th>10th</th>\n",
              "      <th>Local-gov</th>\n",
              "      <td>49.0</td>\n",
              "      <td>2.0</td>\n",
              "    </tr>\n",
              "    <tr>\n",
              "      <th rowspan=\"3\" valign=\"top\">12th</th>\n",
              "      <th>Self-emp-inc</th>\n",
              "      <td>10.0</td>\n",
              "      <td>2.0</td>\n",
              "    </tr>\n",
              "    <tr>\n",
              "      <th>State-gov</th>\n",
              "      <td>9.0</td>\n",
              "      <td>2.0</td>\n",
              "    </tr>\n",
              "    <tr>\n",
              "      <th>Federal-gov</th>\n",
              "      <td>6.0</td>\n",
              "      <td>1.0</td>\n",
              "    </tr>\n",
              "    <tr>\n",
              "      <th>11th</th>\n",
              "      <th>State-gov</th>\n",
              "      <td>14.0</td>\n",
              "      <td>1.0</td>\n",
              "    </tr>\n",
              "    <tr>\n",
              "      <th>5th-6th</th>\n",
              "      <th>Local-gov</th>\n",
              "      <td>12.0</td>\n",
              "      <td>1.0</td>\n",
              "    </tr>\n",
              "    <tr>\n",
              "      <th>Preschool</th>\n",
              "      <th>Private</th>\n",
              "      <td>57.0</td>\n",
              "      <td>1.0</td>\n",
              "    </tr>\n",
              "    <tr>\n",
              "      <th>11th</th>\n",
              "      <th>Federal-gov</th>\n",
              "      <td>13.0</td>\n",
              "      <td>1.0</td>\n",
              "    </tr>\n",
              "    <tr>\n",
              "      <th>9th</th>\n",
              "      <th>Self-emp-inc</th>\n",
              "      <td>12.0</td>\n",
              "      <td>1.0</td>\n",
              "    </tr>\n",
              "    <tr>\n",
              "      <th>7th-8th</th>\n",
              "      <th>Local-gov</th>\n",
              "      <td>38.0</td>\n",
              "      <td>1.0</td>\n",
              "    </tr>\n",
              "    <tr>\n",
              "      <th>9th</th>\n",
              "      <th>Federal-gov</th>\n",
              "      <td>5.0</td>\n",
              "      <td>1.0</td>\n",
              "    </tr>\n",
              "    <tr>\n",
              "      <th>1st-4th</th>\n",
              "      <th>Self-emp-not-inc</th>\n",
              "      <td>15.0</td>\n",
              "      <td>1.0</td>\n",
              "    </tr>\n",
              "    <tr>\n",
              "      <th>Preschool</th>\n",
              "      <th>State-gov</th>\n",
              "      <td>1.0</td>\n",
              "      <td>0.0</td>\n",
              "    </tr>\n",
              "    <tr>\n",
              "      <th>10th</th>\n",
              "      <th>Federal-gov</th>\n",
              "      <td>15.0</td>\n",
              "      <td>0.0</td>\n",
              "    </tr>\n",
              "    <tr>\n",
              "      <th>Assoc-acdm</th>\n",
              "      <th>Without-pay</th>\n",
              "      <td>2.0</td>\n",
              "      <td>0.0</td>\n",
              "    </tr>\n",
              "    <tr>\n",
              "      <th rowspan=\"2\" valign=\"top\">Preschool</th>\n",
              "      <th>Self-emp-not-inc</th>\n",
              "      <td>5.0</td>\n",
              "      <td>0.0</td>\n",
              "    </tr>\n",
              "    <tr>\n",
              "      <th>Local-gov</th>\n",
              "      <td>4.0</td>\n",
              "      <td>0.0</td>\n",
              "    </tr>\n",
              "    <tr>\n",
              "      <th>9th</th>\n",
              "      <th>State-gov</th>\n",
              "      <td>10.0</td>\n",
              "      <td>0.0</td>\n",
              "    </tr>\n",
              "    <tr>\n",
              "      <th rowspan=\"3\" valign=\"top\">7th-8th</th>\n",
              "      <th>Without-pay</th>\n",
              "      <td>2.0</td>\n",
              "      <td>0.0</td>\n",
              "    </tr>\n",
              "    <tr>\n",
              "      <th>State-gov</th>\n",
              "      <td>16.0</td>\n",
              "      <td>0.0</td>\n",
              "    </tr>\n",
              "    <tr>\n",
              "      <th>Federal-gov</th>\n",
              "      <td>4.0</td>\n",
              "      <td>0.0</td>\n",
              "    </tr>\n",
              "    <tr>\n",
              "      <th rowspan=\"2\" valign=\"top\">5th-6th</th>\n",
              "      <th>State-gov</th>\n",
              "      <td>4.0</td>\n",
              "      <td>0.0</td>\n",
              "    </tr>\n",
              "    <tr>\n",
              "      <th>Federal-gov</th>\n",
              "      <td>1.0</td>\n",
              "      <td>0.0</td>\n",
              "    </tr>\n",
              "    <tr>\n",
              "      <th rowspan=\"4\" valign=\"top\">1st-4th</th>\n",
              "      <th>State-gov</th>\n",
              "      <td>2.0</td>\n",
              "      <td>0.0</td>\n",
              "    </tr>\n",
              "    <tr>\n",
              "      <th>Self-emp-inc</th>\n",
              "      <td>2.0</td>\n",
              "      <td>0.0</td>\n",
              "    </tr>\n",
              "    <tr>\n",
              "      <th>Local-gov</th>\n",
              "      <td>5.0</td>\n",
              "      <td>0.0</td>\n",
              "    </tr>\n",
              "    <tr>\n",
              "      <th>Federal-gov</th>\n",
              "      <td>1.0</td>\n",
              "      <td>0.0</td>\n",
              "    </tr>\n",
              "    <tr>\n",
              "      <th>Some-college</th>\n",
              "      <th>Without-pay</th>\n",
              "      <td>3.0</td>\n",
              "      <td>0.0</td>\n",
              "    </tr>\n",
              "  </tbody>\n",
              "</table>\n",
              "</div>"
            ],
            "text/plain": [
              "                               income_<=50K  income_>50K\n",
              "education    workclass                                  \n",
              "Bachelors    Private                 1449.0        934.0\n",
              "HS-grad      Private                 3756.0        675.0\n",
              "Some-college Private                 2575.0        653.0\n",
              "Masters      Private                  461.0        478.0\n",
              "Assoc-voc    Private                  713.0        241.0\n",
              "Masters      Local-gov                223.0        214.0\n",
              "Prof-school  Private                  108.0        205.0\n",
              "Assoc-acdm   Private                  607.0        202.0\n",
              "Bachelors    Self-emp-inc             145.0        200.0\n",
              "HS-grad      Self-emp-not-inc         758.0        199.0\n",
              "Bachelors    Self-emp-not-inc         313.0        187.0\n",
              "             Local-gov                380.0        181.0\n",
              "Doctorate    Private                   72.0        151.0\n",
              "Some-college Self-emp-not-inc         480.0        148.0\n",
              "HS-grad      Self-emp-inc             221.0        140.0\n",
              "Some-college Self-emp-inc             152.0        135.0\n",
              "Prof-school  Self-emp-not-inc          39.0        128.0\n",
              "Bachelors    State-gov                245.0        125.0\n",
              "HS-grad      Local-gov                468.0        111.0\n",
              "Bachelors    Federal-gov              143.0        110.0\n",
              "Some-college Local-gov                358.0        106.0\n",
              "Prof-school  Self-emp-inc               7.0        104.0\n",
              "Masters      State-gov                141.0         98.0\n",
              "             Self-emp-not-inc         108.0         88.0\n",
              "Some-college Federal-gov              216.0         88.0\n",
              "Doctorate    State-gov                 33.0         80.0\n",
              "HS-grad      Federal-gov              236.0         76.0\n",
              "Masters      Self-emp-inc              31.0         71.0\n",
              "11th         Private                  766.0         63.0\n",
              "HS-grad      State-gov                272.0         62.0\n",
              "Masters      Federal-gov               33.0         61.0\n",
              "Some-college State-gov                345.0         52.0\n",
              "Doctorate    Self-emp-not-inc          25.0         50.0\n",
              "10th         Private                  649.0         45.0\n",
              "Doctorate    Self-emp-inc               9.0         44.0\n",
              "Assoc-acdm   Local-gov                 82.0         42.0\n",
              "Assoc-voc    Self-emp-not-inc         125.0         38.0\n",
              "12th         Private                  338.0         32.0\n",
              "7th-8th      Private                  456.0         31.0\n",
              "Assoc-voc    Local-gov                 90.0         30.0\n",
              "Assoc-acdm   Self-emp-inc              26.0         29.0\n",
              "Prof-school  Federal-gov                8.0         29.0\n",
              "Assoc-acdm   Federal-gov               49.0         28.0\n",
              "9th          Private                  425.0         28.0\n",
              "Prof-school  Local-gov                 14.0         27.0\n",
              "Assoc-voc    Self-emp-inc              32.0         26.0\n",
              "Prof-school  State-gov                 19.0         26.0\n",
              "Assoc-acdm   Self-emp-not-inc          82.0         25.0\n",
              "Doctorate    Local-gov                 11.0         23.0\n",
              "Assoc-voc    State-gov                 51.0         20.0\n",
              "Doctorate    Federal-gov                3.0         19.0\n",
              "Assoc-voc    Federal-gov               40.0         19.0\n",
              "7th-8th      Self-emp-not-inc         111.0         18.0\n",
              "5th-6th      Private                  304.0         15.0\n",
              "11th         Self-emp-not-inc          89.0         13.0\n",
              "10th         Self-emp-not-inc          90.0         11.0\n",
              "Assoc-acdm   State-gov                 55.0          7.0\n",
              "11th         Self-emp-inc              16.0          7.0\n",
              "1st-4th      Private                  167.0          7.0\n",
              "7th-8th      Self-emp-inc              14.0          6.0\n",
              "10th         Self-emp-inc              21.0          6.0\n",
              "9th          Self-emp-not-inc          49.0          6.0\n",
              "5th-6th      Self-emp-not-inc          26.0          6.0\n",
              "12th         Self-emp-not-inc          25.0          5.0\n",
              "9th          Local-gov                 25.0          4.0\n",
              "10th         State-gov                 15.0          3.0\n",
              "5th-6th      Self-emp-inc               5.0          3.0\n",
              "11th         Local-gov                 57.0          3.0\n",
              "12th         Local-gov                 23.0          2.0\n",
              "HS-grad      Without-pay               11.0          2.0\n",
              "10th         Local-gov                 49.0          2.0\n",
              "12th         Self-emp-inc              10.0          2.0\n",
              "             State-gov                  9.0          2.0\n",
              "             Federal-gov                6.0          1.0\n",
              "11th         State-gov                 14.0          1.0\n",
              "5th-6th      Local-gov                 12.0          1.0\n",
              "Preschool    Private                   57.0          1.0\n",
              "11th         Federal-gov               13.0          1.0\n",
              "9th          Self-emp-inc              12.0          1.0\n",
              "7th-8th      Local-gov                 38.0          1.0\n",
              "9th          Federal-gov                5.0          1.0\n",
              "1st-4th      Self-emp-not-inc          15.0          1.0\n",
              "Preschool    State-gov                  1.0          0.0\n",
              "10th         Federal-gov               15.0          0.0\n",
              "Assoc-acdm   Without-pay                2.0          0.0\n",
              "Preschool    Self-emp-not-inc           5.0          0.0\n",
              "             Local-gov                  4.0          0.0\n",
              "9th          State-gov                 10.0          0.0\n",
              "7th-8th      Without-pay                2.0          0.0\n",
              "             State-gov                 16.0          0.0\n",
              "             Federal-gov                4.0          0.0\n",
              "5th-6th      State-gov                  4.0          0.0\n",
              "             Federal-gov                1.0          0.0\n",
              "1st-4th      State-gov                  2.0          0.0\n",
              "             Self-emp-inc               2.0          0.0\n",
              "             Local-gov                  5.0          0.0\n",
              "             Federal-gov                1.0          0.0\n",
              "Some-college Without-pay                3.0          0.0"
            ]
          },
          "metadata": {
            "tags": []
          },
          "execution_count": 218
        }
      ]
    },
    {
      "cell_type": "markdown",
      "metadata": {
        "id": "xDtU2m_ZN_R_"
      },
      "source": [
        "\n",
        "\n",
        "*   Học vị cao thường có thu nhập cao hơn\n",
        "*   Học vấn thấp thường có thu nhập không cao\n",
        "=> phân nhóm\n",
        "*   workclass không nói lên điều gì => không có ảnh hưởng lắm đến thu nhập\n",
        "\n"
      ]
    },
    {
      "cell_type": "code",
      "metadata": {
        "colab": {
          "base_uri": "https://localhost:8080/",
          "height": 514
        },
        "id": "yTK5274HxXOc",
        "outputId": "02abed2a-6b2d-4018-c67c-9f38454231c8"
      },
      "source": [
        "pd.DataFrame(df1.groupby(by = [\"marital_status\",\"gender\" ]).sum()[[\"income_<=50K\", \"income_>50K\"]]).sort_values(by = \"income_>50K\", ascending=False)"
      ],
      "execution_count": null,
      "outputs": [
        {
          "output_type": "execute_result",
          "data": {
            "text/html": [
              "<div>\n",
              "<style scoped>\n",
              "    .dataframe tbody tr th:only-of-type {\n",
              "        vertical-align: middle;\n",
              "    }\n",
              "\n",
              "    .dataframe tbody tr th {\n",
              "        vertical-align: top;\n",
              "    }\n",
              "\n",
              "    .dataframe thead th {\n",
              "        text-align: right;\n",
              "    }\n",
              "</style>\n",
              "<table border=\"1\" class=\"dataframe\">\n",
              "  <thead>\n",
              "    <tr style=\"text-align: right;\">\n",
              "      <th></th>\n",
              "      <th></th>\n",
              "      <th>income_&lt;=50K</th>\n",
              "      <th>income_&gt;50K</th>\n",
              "    </tr>\n",
              "    <tr>\n",
              "      <th>marital_status</th>\n",
              "      <th>gender</th>\n",
              "      <th></th>\n",
              "      <th></th>\n",
              "    </tr>\n",
              "  </thead>\n",
              "  <tbody>\n",
              "    <tr>\n",
              "      <th rowspan=\"2\" valign=\"top\">Married-civ-spouse</th>\n",
              "      <th>Male</th>\n",
              "      <td>5588.0</td>\n",
              "      <td>4689.0</td>\n",
              "    </tr>\n",
              "    <tr>\n",
              "      <th>Female</th>\n",
              "      <td>987.0</td>\n",
              "      <td>871.0</td>\n",
              "    </tr>\n",
              "    <tr>\n",
              "      <th>Never-married</th>\n",
              "      <th>Male</th>\n",
              "      <td>3697.0</td>\n",
              "      <td>415.0</td>\n",
              "    </tr>\n",
              "    <tr>\n",
              "      <th rowspan=\"2\" valign=\"top\">Divorced</th>\n",
              "      <th>Male</th>\n",
              "      <td>1437.0</td>\n",
              "      <td>360.0</td>\n",
              "    </tr>\n",
              "    <tr>\n",
              "      <th>Female</th>\n",
              "      <td>2312.0</td>\n",
              "      <td>252.0</td>\n",
              "    </tr>\n",
              "    <tr>\n",
              "      <th>Never-married</th>\n",
              "      <th>Female</th>\n",
              "      <td>3096.0</td>\n",
              "      <td>241.0</td>\n",
              "    </tr>\n",
              "    <tr>\n",
              "      <th>Separated</th>\n",
              "      <th>Male</th>\n",
              "      <td>422.0</td>\n",
              "      <td>70.0</td>\n",
              "    </tr>\n",
              "    <tr>\n",
              "      <th rowspan=\"2\" valign=\"top\">Widowed</th>\n",
              "      <th>Female</th>\n",
              "      <td>867.0</td>\n",
              "      <td>62.0</td>\n",
              "    </tr>\n",
              "    <tr>\n",
              "      <th>Male</th>\n",
              "      <td>184.0</td>\n",
              "      <td>58.0</td>\n",
              "    </tr>\n",
              "    <tr>\n",
              "      <th>Married-spouse-absent</th>\n",
              "      <th>Male</th>\n",
              "      <td>252.0</td>\n",
              "      <td>38.0</td>\n",
              "    </tr>\n",
              "    <tr>\n",
              "      <th>Separated</th>\n",
              "      <th>Female</th>\n",
              "      <td>699.0</td>\n",
              "      <td>28.0</td>\n",
              "    </tr>\n",
              "    <tr>\n",
              "      <th>Married-spouse-absent</th>\n",
              "      <th>Female</th>\n",
              "      <td>249.0</td>\n",
              "      <td>18.0</td>\n",
              "    </tr>\n",
              "    <tr>\n",
              "      <th rowspan=\"2\" valign=\"top\">Married-AF-spouse</th>\n",
              "      <th>Female</th>\n",
              "      <td>11.0</td>\n",
              "      <td>10.0</td>\n",
              "    </tr>\n",
              "    <tr>\n",
              "      <th>Male</th>\n",
              "      <td>7.0</td>\n",
              "      <td>4.0</td>\n",
              "    </tr>\n",
              "  </tbody>\n",
              "</table>\n",
              "</div>"
            ],
            "text/plain": [
              "                              income_<=50K  income_>50K\n",
              "marital_status        gender                           \n",
              "Married-civ-spouse    Male          5588.0       4689.0\n",
              "                      Female         987.0        871.0\n",
              "Never-married         Male          3697.0        415.0\n",
              "Divorced              Male          1437.0        360.0\n",
              "                      Female        2312.0        252.0\n",
              "Never-married         Female        3096.0        241.0\n",
              "Separated             Male           422.0         70.0\n",
              "Widowed               Female         867.0         62.0\n",
              "                      Male           184.0         58.0\n",
              "Married-spouse-absent Male           252.0         38.0\n",
              "Separated             Female         699.0         28.0\n",
              "Married-spouse-absent Female         249.0         18.0\n",
              "Married-AF-spouse     Female          11.0         10.0\n",
              "                      Male             7.0          4.0"
            ]
          },
          "metadata": {
            "tags": []
          },
          "execution_count": 219
        }
      ]
    },
    {
      "cell_type": "markdown",
      "metadata": {
        "id": "5iiVBkxpOZDN"
      },
      "source": [
        "\n",
        "\n",
        "*   Nam giới thường có thu nhập cao hơn nữa giới\n",
        "*   Độc thân và ly hôn thường có thu nhập không cao\n",
        "\n"
      ]
    },
    {
      "cell_type": "code",
      "metadata": {
        "colab": {
          "base_uri": "https://localhost:8080/",
          "height": 235
        },
        "id": "nWHaBFh8PLgc",
        "outputId": "599e54a1-ef3a-4c44-e8f4-62be4038cffe"
      },
      "source": [
        "pd.DataFrame(df1.groupby(by = [\"race\"]).sum()[[\"income_<=50K\", \"income_>50K\"]]).sort_values(by = \"income_>50K\", ascending=False)"
      ],
      "execution_count": null,
      "outputs": [
        {
          "output_type": "execute_result",
          "data": {
            "text/html": [
              "<div>\n",
              "<style scoped>\n",
              "    .dataframe tbody tr th:only-of-type {\n",
              "        vertical-align: middle;\n",
              "    }\n",
              "\n",
              "    .dataframe tbody tr th {\n",
              "        vertical-align: top;\n",
              "    }\n",
              "\n",
              "    .dataframe thead th {\n",
              "        text-align: right;\n",
              "    }\n",
              "</style>\n",
              "<table border=\"1\" class=\"dataframe\">\n",
              "  <thead>\n",
              "    <tr style=\"text-align: right;\">\n",
              "      <th></th>\n",
              "      <th>income_&lt;=50K</th>\n",
              "      <th>income_&gt;50K</th>\n",
              "    </tr>\n",
              "    <tr>\n",
              "      <th>race</th>\n",
              "      <th></th>\n",
              "      <th></th>\n",
              "    </tr>\n",
              "  </thead>\n",
              "  <tbody>\n",
              "    <tr>\n",
              "      <th>White</th>\n",
              "      <td>15396.0</td>\n",
              "      <td>6158.0</td>\n",
              "    </tr>\n",
              "    <tr>\n",
              "      <th>Black</th>\n",
              "      <td>2847.0</td>\n",
              "      <td>488.0</td>\n",
              "    </tr>\n",
              "    <tr>\n",
              "      <th>Asian-Pac-Islander</th>\n",
              "      <td>887.0</td>\n",
              "      <td>370.0</td>\n",
              "    </tr>\n",
              "    <tr>\n",
              "      <th>Amer-Indian-Eskimo</th>\n",
              "      <td>366.0</td>\n",
              "      <td>53.0</td>\n",
              "    </tr>\n",
              "    <tr>\n",
              "      <th>Other</th>\n",
              "      <td>312.0</td>\n",
              "      <td>47.0</td>\n",
              "    </tr>\n",
              "  </tbody>\n",
              "</table>\n",
              "</div>"
            ],
            "text/plain": [
              "                    income_<=50K  income_>50K\n",
              "race                                         \n",
              "White                    15396.0       6158.0\n",
              "Black                     2847.0        488.0\n",
              "Asian-Pac-Islander         887.0        370.0\n",
              "Amer-Indian-Eskimo         366.0         53.0\n",
              "Other                      312.0         47.0"
            ]
          },
          "metadata": {
            "tags": []
          },
          "execution_count": 413
        }
      ]
    },
    {
      "cell_type": "markdown",
      "metadata": {
        "id": "PXJG-J33Ou3Y"
      },
      "source": [
        "\n",
        "\n",
        "*   Vì phân bố quá lệch nên race k nói lên điều gì\n",
        "\n"
      ]
    },
    {
      "cell_type": "code",
      "metadata": {
        "colab": {
          "base_uri": "https://localhost:8080/"
        },
        "id": "eL7XenjPErWP",
        "outputId": "1887df8a-76e8-49d0-d4e9-5124754f6e8f"
      },
      "source": [
        "len(df.education.unique()), len(df.educational_num.unique())"
      ],
      "execution_count": null,
      "outputs": [
        {
          "output_type": "execute_result",
          "data": {
            "text/plain": [
              "(16, 16)"
            ]
          },
          "metadata": {
            "tags": []
          },
          "execution_count": 44
        }
      ]
    },
    {
      "cell_type": "code",
      "metadata": {
        "colab": {
          "base_uri": "https://localhost:8080/",
          "height": 624
        },
        "id": "YWIv1Kiq-XRj",
        "outputId": "e6723d16-954b-4338-af4b-aaaa683956b6"
      },
      "source": [
        "fig, axs = plt.subplots(ncols=2, figsize = (15, 10))\n",
        "sns.countplot(data = df, x = \"education\", ax=axs[0], order=[\"Preschool\", \"1st-4th\", \"5th-6th\", \"7th-8th\", \"9th\",\n",
        "                                      \"10th\", \"11th\", \"12th\", \"HS-grad\",\"Some-college\",\n",
        "                                     \"Assoc-voc\", \"Assoc-acdm\", \"Bachelors\",\n",
        "                                     \"Masters\", \"Prof-school\",\"Doctorate\"])\n",
        "sns.countplot(data = df, x = \"educational_num\", ax=axs[1])"
      ],
      "execution_count": null,
      "outputs": [
        {
          "output_type": "execute_result",
          "data": {
            "text/plain": [
              "<matplotlib.axes._subplots.AxesSubplot at 0x7fa703b8a8d0>"
            ]
          },
          "metadata": {
            "tags": []
          },
          "execution_count": 16
        },
        {
          "output_type": "display_data",
          "data": {
            "image/png": "[encoded data removed]",
            "text/plain": [
              "<Figure size 1080x720 with 2 Axes>"
            ]
          },
          "metadata": {
            "tags": [],
            "needs_background": "light"
          }
        }
      ]
    },
    {
      "cell_type": "markdown",
      "metadata": {
        "id": "GKkM2SL2O5Az"
      },
      "source": [
        "\n",
        "\n",
        "*   education và education num có phân bố giống hệt nhau ( count ) = > 2 biến này giống hệt nhau => có thể drop 1 cái\n",
        "\n"
      ]
    },
    {
      "cell_type": "code",
      "metadata": {
        "colab": {
          "base_uri": "https://localhost:8080/",
          "height": 1000
        },
        "id": "372h1BXvi0Nb",
        "outputId": "98e27bf5-d263-4e47-b34c-8f6514faa3d1"
      },
      "source": [
        "plt.figure(figsize=(10,20))\n",
        "sns.scatterplot(data = df, x = \"age\", y = \"hours_per_week\", hue = \"income\");"
      ],
      "execution_count": null,
      "outputs": [
        {
          "output_type": "display_data",
          "data": {
            "image/png": "[encoded data removed]",
            "text/plain": [
              "<Figure size 720x1440 with 1 Axes>"
            ]
          },
          "metadata": {
            "tags": [],
            "needs_background": "light"
          }
        }
      ]
    },
    {
      "cell_type": "markdown",
      "metadata": {
        "id": "5AHME872PvwN"
      },
      "source": [
        "\n",
        "\n",
        "*   độ tuổi thu nhâp cao : 30 ~ 60\n",
        "*   Thời gian làm việc thu nhập cao : 35 ~ 60\n",
        "\n",
        "\n",
        "\n",
        "*   Độ tuổi lao động chia 2 nhóm chính : 20-45 và 46-65\n",
        "*   thời gian làm việc : 15-25 ( part-time) 25-40(full-time) 40-60 ( over-time)\n",
        "\n",
        "=>  binning\n",
        "\n",
        "\n",
        "\n",
        "*   tạo thuộc tính mới = age* hours (30x35 ~ 60x60)\n",
        "=>binning\n",
        "\n",
        "\n",
        "\n",
        "\n"
      ]
    },
    {
      "cell_type": "markdown",
      "metadata": {
        "id": "yQtYc51sSzBK"
      },
      "source": [
        "feature selection "
      ]
    },
    {
      "cell_type": "code",
      "metadata": {
        "id": "Dv_VA_aFEPWe"
      },
      "source": [
        "data = df.copy()"
      ],
      "execution_count": null,
      "outputs": []
    },
    {
      "cell_type": "code",
      "metadata": {
        "colab": {
          "base_uri": "https://localhost:8080/"
        },
        "id": "JwvwdoudXj7q",
        "outputId": "02dc20b8-3765-411e-ea4c-7bbff6e8bfbb"
      },
      "source": [
        "data.education.unique()"
      ],
      "execution_count": null,
      "outputs": [
        {
          "output_type": "execute_result",
          "data": {
            "text/plain": [
              "array(['11th', 'HS-grad', 'Assoc-acdm', 'Some-college', '10th',\n",
              "       'Prof-school', '7th-8th', 'Bachelors', 'Masters', 'Doctorate',\n",
              "       '5th-6th', 'Assoc-voc', '9th', '12th', '1st-4th', 'Preschool'],\n",
              "      dtype=object)"
            ]
          },
          "metadata": {
            "tags": []
          },
          "execution_count": 582
        }
      ]
    },
    {
      "cell_type": "code",
      "metadata": {
        "colab": {
          "base_uri": "https://localhost:8080/"
        },
        "id": "BkktCbZXXn4X",
        "outputId": "70cc3d9e-d441-4f5c-b21a-aa06998d32e9"
      },
      "source": [
        "data.marital_status.unique()"
      ],
      "execution_count": null,
      "outputs": [
        {
          "output_type": "execute_result",
          "data": {
            "text/plain": [
              "array(['Never-married', 'Married-civ-spouse', 'Widowed', 'Separated',\n",
              "       'Divorced', 'Married-spouse-absent', 'Married-AF-spouse'],\n",
              "      dtype=object)"
            ]
          },
          "metadata": {
            "tags": []
          },
          "execution_count": 567
        }
      ]
    },
    {
      "cell_type": "code",
      "metadata": {
        "id": "byL9boZQDXUa"
      },
      "source": [
        "# data = data.drop(\"education\", axis=1)\n",
        "data = data.drop(\"educational_num\", axis=1)\n",
        "data.education.replace([\"Preschool\", \"1st-4th\", \"5th-6th\", \"7th-8th\", \"9th\",\n",
        "                                      \"10th\", \"11th\", \"12th\"], \"general\", inplace = True)\n",
        "data.education.replace([ \"HS-grad\", \"Prof-school\",\n",
        "                                     \"Assoc-acdm\", \"Assoc-voc\", \"Some-college\"],\"college\", inplace = True)\n",
        "data.education.replace([ \"Bachelors\", \"Masters\", \"Doctorate\"], \"University\", inplace = True)"
      ],
      "execution_count": null,
      "outputs": []
    },
    {
      "cell_type": "code",
      "metadata": {
        "id": "NjmQ5kfcr47W",
        "colab": {
          "base_uri": "https://localhost:8080/",
          "height": 204
        },
        "outputId": "55498f82-19b3-46f3-ad2c-ee5ced5a4127"
      },
      "source": [
        "data.head()"
      ],
      "execution_count": null,
      "outputs": [
        {
          "output_type": "execute_result",
          "data": {
            "text/html": [
              "<div>\n",
              "<style scoped>\n",
              "    .dataframe tbody tr th:only-of-type {\n",
              "        vertical-align: middle;\n",
              "    }\n",
              "\n",
              "    .dataframe tbody tr th {\n",
              "        vertical-align: top;\n",
              "    }\n",
              "\n",
              "    .dataframe thead th {\n",
              "        text-align: right;\n",
              "    }\n",
              "</style>\n",
              "<table border=\"1\" class=\"dataframe\">\n",
              "  <thead>\n",
              "    <tr style=\"text-align: right;\">\n",
              "      <th></th>\n",
              "      <th>age</th>\n",
              "      <th>workclass</th>\n",
              "      <th>educational_num</th>\n",
              "      <th>marital_status</th>\n",
              "      <th>race</th>\n",
              "      <th>gender</th>\n",
              "      <th>hours_per_week</th>\n",
              "      <th>income</th>\n",
              "    </tr>\n",
              "  </thead>\n",
              "  <tbody>\n",
              "    <tr>\n",
              "      <th>0</th>\n",
              "      <td>25</td>\n",
              "      <td>Private</td>\n",
              "      <td>7</td>\n",
              "      <td>Never-married</td>\n",
              "      <td>Black</td>\n",
              "      <td>Male</td>\n",
              "      <td>40</td>\n",
              "      <td>&lt;=50K</td>\n",
              "    </tr>\n",
              "    <tr>\n",
              "      <th>1</th>\n",
              "      <td>38</td>\n",
              "      <td>Private</td>\n",
              "      <td>9</td>\n",
              "      <td>Married-civ-spouse</td>\n",
              "      <td>White</td>\n",
              "      <td>Male</td>\n",
              "      <td>50</td>\n",
              "      <td>&lt;=50K</td>\n",
              "    </tr>\n",
              "    <tr>\n",
              "      <th>2</th>\n",
              "      <td>28</td>\n",
              "      <td>Local-gov</td>\n",
              "      <td>12</td>\n",
              "      <td>Married-civ-spouse</td>\n",
              "      <td>White</td>\n",
              "      <td>Male</td>\n",
              "      <td>40</td>\n",
              "      <td>&gt;50K</td>\n",
              "    </tr>\n",
              "    <tr>\n",
              "      <th>3</th>\n",
              "      <td>44</td>\n",
              "      <td>Private</td>\n",
              "      <td>10</td>\n",
              "      <td>Married-civ-spouse</td>\n",
              "      <td>Black</td>\n",
              "      <td>Male</td>\n",
              "      <td>40</td>\n",
              "      <td>&gt;50K</td>\n",
              "    </tr>\n",
              "    <tr>\n",
              "      <th>4</th>\n",
              "      <td>34</td>\n",
              "      <td>Private</td>\n",
              "      <td>6</td>\n",
              "      <td>Never-married</td>\n",
              "      <td>White</td>\n",
              "      <td>Male</td>\n",
              "      <td>30</td>\n",
              "      <td>&lt;=50K</td>\n",
              "    </tr>\n",
              "  </tbody>\n",
              "</table>\n",
              "</div>"
            ],
            "text/plain": [
              "   age  workclass  educational_num      marital_status   race gender  \\\n",
              "0   25    Private                7       Never-married  Black   Male   \n",
              "1   38    Private                9  Married-civ-spouse  White   Male   \n",
              "2   28  Local-gov               12  Married-civ-spouse  White   Male   \n",
              "3   44    Private               10  Married-civ-spouse  Black   Male   \n",
              "4   34    Private                6       Never-married  White   Male   \n",
              "\n",
              "   hours_per_week income  \n",
              "0              40  <=50K  \n",
              "1              50  <=50K  \n",
              "2              40   >50K  \n",
              "3              40   >50K  \n",
              "4              30  <=50K  "
            ]
          },
          "metadata": {
            "tags": []
          },
          "execution_count": 601
        }
      ]
    },
    {
      "cell_type": "code",
      "metadata": {
        "id": "A5joMAobyIWA"
      },
      "source": [
        "data.age = pd.cut(data.age, bins = [0,20,30, 60,100], labels = [0,1,2,3])\n",
        "data.hours_per_week = pd.cut(data.hours_per_week, bins = [0,25,40,60, 100], labels = [0,1,2,3])"
      ],
      "execution_count": null,
      "outputs": []
    },
    {
      "cell_type": "code",
      "metadata": {
        "id": "KshJ_bl1jLRq"
      },
      "source": [
        "from sklearn.preprocessing import StandardScaler\n",
        "from sklearn.preprocessing import MinMaxScaler\n",
        "\n",
        "scaler = MinMaxScaler() \n",
        "\n",
        "# scaler = StandardScaler()\n",
        "data[[\"educational_num\" ]] = scaler.fit_transform(data[[\"educational_num\"]])"
      ],
      "execution_count": null,
      "outputs": []
    },
    {
      "cell_type": "code",
      "metadata": {
        "id": "_yIBbGD2Ooa4"
      },
      "source": [
        "from sklearn.preprocessing import LabelEncoder\n",
        "\n",
        "le = LabelEncoder()\n",
        "data.income = le.fit([\"<=50K\", \">50K\"]).transform(data.income)\n",
        "data.gender = le.fit_transform(data.gender)\n",
        "# data.education = le.fit([\"Preschool\", \"1st-4th\", \"5th-6th\", \"7th-8th\", \"9th\",\n",
        "#                                       \"10th\", \"11th\", \"12th\", \"HS-grad\", \"Prof-school\",\n",
        "#                                      \"Assoc-acdm\", \"Assoc-voc\", \"Some-college\", \"Bachelors\",\n",
        "#                                      \"Masters\", \"Doctorate\"]).transform(data.education)\n",
        "# data.education = le.fit([\"general\", \"college\", \"University\"]).transform(data.education)\n",
        "data.education = le.fit_transform(data.education)\n",
        "data.marital_status = le.fit_transform(data.marital_status)\n",
        "data.race = le.fit_transform(data.race)\n",
        "data.workclass = le.fit_transform(data.workclass)"
      ],
      "execution_count": null,
      "outputs": []
    },
    {
      "cell_type": "code",
      "metadata": {
        "id": "NydUAZUYje_R"
      },
      "source": [
        "# data = pd.get_dummies(data, prefix= [\"marital_status\", \"race\", \"workclass\"],  columns = [\"marital_status\", \"race\", \"workclass\"], drop_first=True)"
      ],
      "execution_count": null,
      "outputs": []
    },
    {
      "cell_type": "code",
      "metadata": {
        "id": "PoPnZZ6W_AZQ"
      },
      "source": [
        "data.astype(\"int64\")"
      ],
      "execution_count": null,
      "outputs": []
    },
    {
      "cell_type": "code",
      "metadata": {
        "id": "YfswcsNfWwcJ"
      },
      "source": [
        "Y = data.income\n",
        "X = data.drop(labels= \"income\", axis=1)"
      ],
      "execution_count": null,
      "outputs": []
    },
    {
      "cell_type": "code",
      "metadata": {
        "colab": {
          "base_uri": "https://localhost:8080/"
        },
        "id": "rgp1Jt-eafZ0",
        "outputId": "3a93d455-dd7b-4c42-ceaa-423b5eb4ae37"
      },
      "source": [
        "from sklearn.model_selection import train_test_split\n",
        "from sklearn.ensemble import RandomForestClassifier\n",
        "from sklearn.metrics import classification_report\n",
        "\n",
        "x_train, x_test, y_train , y_test = train_test_split(X, Y, test_size = 0.3)\n",
        "\n",
        "model = RandomForestClassifier(200)\n",
        "model.fit(x_train, y_train)\n",
        "\n",
        "y_predict = model.predict(x_test)\n",
        "report = classification_report(y_test, y_predict)\n",
        "print(report)"
      ],
      "execution_count": null,
      "outputs": [
        {
          "output_type": "stream",
          "text": [
            "              precision    recall  f1-score   support\n",
            "\n",
            "           0       0.84      0.87      0.86      5950\n",
            "           1       0.61      0.55      0.58      2128\n",
            "\n",
            "    accuracy                           0.79      8078\n",
            "   macro avg       0.73      0.71      0.72      8078\n",
            "weighted avg       0.78      0.79      0.78      8078\n",
            "\n"
          ],
          "name": "stdout"
        }
      ]
    },
    {
      "cell_type": "code",
      "metadata": {
        "colab": {
          "base_uri": "https://localhost:8080/",
          "height": 724
        },
        "id": "VAQluXeSe7MM",
        "outputId": "3f69ebe2-fa82-47d5-d249-861bffe55e76"
      },
      "source": [
        "plt.figure(figsize=(20, 10))\n",
        "plt.bar(height= model.feature_importances_.tolist(), x = X.columns)\n",
        "plt.xticks(rotation = 45);"
      ],
      "execution_count": null,
      "outputs": [
        {
          "output_type": "display_data",
          "data": {
            "image/png": "[encoded data removed]",
            "text/plain": [
              "<Figure size 1440x720 with 1 Axes>"
            ]
          },
          "metadata": {
            "tags": [],
            "needs_background": "light"
          }
        }
      ]
    },
    {
      "cell_type": "code",
      "metadata": {
        "colab": {
          "base_uri": "https://localhost:8080/",
          "height": 227
        },
        "id": "MuFYsYLYTIyj",
        "outputId": "747cf51d-1195-4d58-9111-c181330a7593"
      },
      "source": [
        "data_test = x_test\n",
        "data_test = data_test.assign(true_label = y_test.values, predict_label = y_predict)\n",
        "pd.set_option('display.max_rows', None)\n",
        "data_test.loc[(data_test.true_label != data_test.predict_label)].astype(\"category\").describe(include=\"all\")"
      ],
      "execution_count": null,
      "outputs": [
        {
          "output_type": "execute_result",
          "data": {
            "text/html": [
              "<div>\n",
              "<style scoped>\n",
              "    .dataframe tbody tr th:only-of-type {\n",
              "        vertical-align: middle;\n",
              "    }\n",
              "\n",
              "    .dataframe tbody tr th {\n",
              "        vertical-align: top;\n",
              "    }\n",
              "\n",
              "    .dataframe thead th {\n",
              "        text-align: right;\n",
              "    }\n",
              "</style>\n",
              "<table border=\"1\" class=\"dataframe\">\n",
              "  <thead>\n",
              "    <tr style=\"text-align: right;\">\n",
              "      <th></th>\n",
              "      <th>age</th>\n",
              "      <th>educational_num</th>\n",
              "      <th>gender</th>\n",
              "      <th>hours_per_week</th>\n",
              "      <th>marital_status_Married-AF-spouse</th>\n",
              "      <th>marital_status_Married-civ-spouse</th>\n",
              "      <th>marital_status_Married-spouse-absent</th>\n",
              "      <th>marital_status_Never-married</th>\n",
              "      <th>marital_status_Separated</th>\n",
              "      <th>marital_status_Widowed</th>\n",
              "      <th>race_Asian-Pac-Islander</th>\n",
              "      <th>race_Black</th>\n",
              "      <th>race_Other</th>\n",
              "      <th>race_White</th>\n",
              "      <th>workclass_Local-gov</th>\n",
              "      <th>workclass_Private</th>\n",
              "      <th>workclass_Self-emp-inc</th>\n",
              "      <th>workclass_Self-emp-not-inc</th>\n",
              "      <th>workclass_State-gov</th>\n",
              "      <th>workclass_Without-pay</th>\n",
              "      <th>true_label</th>\n",
              "      <th>predict_label</th>\n",
              "    </tr>\n",
              "  </thead>\n",
              "  <tbody>\n",
              "    <tr>\n",
              "      <th>count</th>\n",
              "      <td>2164.000000</td>\n",
              "      <td>2164.000000</td>\n",
              "      <td>2164</td>\n",
              "      <td>2164.000000</td>\n",
              "      <td>2164</td>\n",
              "      <td>2164</td>\n",
              "      <td>2164</td>\n",
              "      <td>2164</td>\n",
              "      <td>2164</td>\n",
              "      <td>2164</td>\n",
              "      <td>2164</td>\n",
              "      <td>2164</td>\n",
              "      <td>2164</td>\n",
              "      <td>2164</td>\n",
              "      <td>2164</td>\n",
              "      <td>2164</td>\n",
              "      <td>2164</td>\n",
              "      <td>2164</td>\n",
              "      <td>2164</td>\n",
              "      <td>2164</td>\n",
              "      <td>2164</td>\n",
              "      <td>2164</td>\n",
              "    </tr>\n",
              "    <tr>\n",
              "      <th>unique</th>\n",
              "      <td>62.000000</td>\n",
              "      <td>16.000000</td>\n",
              "      <td>2</td>\n",
              "      <td>69.000000</td>\n",
              "      <td>2</td>\n",
              "      <td>2</td>\n",
              "      <td>2</td>\n",
              "      <td>2</td>\n",
              "      <td>2</td>\n",
              "      <td>2</td>\n",
              "      <td>2</td>\n",
              "      <td>2</td>\n",
              "      <td>2</td>\n",
              "      <td>2</td>\n",
              "      <td>2</td>\n",
              "      <td>2</td>\n",
              "      <td>2</td>\n",
              "      <td>2</td>\n",
              "      <td>2</td>\n",
              "      <td>1</td>\n",
              "      <td>2</td>\n",
              "      <td>2</td>\n",
              "    </tr>\n",
              "    <tr>\n",
              "      <th>top</th>\n",
              "      <td>-0.151361</td>\n",
              "      <td>-0.416908</td>\n",
              "      <td>1</td>\n",
              "      <td>-0.108226</td>\n",
              "      <td>0</td>\n",
              "      <td>1</td>\n",
              "      <td>0</td>\n",
              "      <td>0</td>\n",
              "      <td>0</td>\n",
              "      <td>0</td>\n",
              "      <td>0</td>\n",
              "      <td>0</td>\n",
              "      <td>0</td>\n",
              "      <td>1</td>\n",
              "      <td>0</td>\n",
              "      <td>1</td>\n",
              "      <td>0</td>\n",
              "      <td>0</td>\n",
              "      <td>0</td>\n",
              "      <td>0</td>\n",
              "      <td>1</td>\n",
              "      <td>0</td>\n",
              "    </tr>\n",
              "    <tr>\n",
              "      <th>freq</th>\n",
              "      <td>74.000000</td>\n",
              "      <td>531.000000</td>\n",
              "      <td>1724</td>\n",
              "      <td>815.000000</td>\n",
              "      <td>2161</td>\n",
              "      <td>1601</td>\n",
              "      <td>2147</td>\n",
              "      <td>1909</td>\n",
              "      <td>2132</td>\n",
              "      <td>2126</td>\n",
              "      <td>2050</td>\n",
              "      <td>2013</td>\n",
              "      <td>2154</td>\n",
              "      <td>1873</td>\n",
              "      <td>1948</td>\n",
              "      <td>1266</td>\n",
              "      <td>2002</td>\n",
              "      <td>1865</td>\n",
              "      <td>2044</td>\n",
              "      <td>2164</td>\n",
              "      <td>1224</td>\n",
              "      <td>1224</td>\n",
              "    </tr>\n",
              "  </tbody>\n",
              "</table>\n",
              "</div>"
            ],
            "text/plain": [
              "                age  educational_num  gender  hours_per_week  \\\n",
              "count   2164.000000      2164.000000    2164     2164.000000   \n",
              "unique    62.000000        16.000000       2       69.000000   \n",
              "top       -0.151361        -0.416908       1       -0.108226   \n",
              "freq      74.000000       531.000000    1724      815.000000   \n",
              "\n",
              "        marital_status_Married-AF-spouse  marital_status_Married-civ-spouse  \\\n",
              "count                               2164                               2164   \n",
              "unique                                 2                                  2   \n",
              "top                                    0                                  1   \n",
              "freq                                2161                               1601   \n",
              "\n",
              "        marital_status_Married-spouse-absent  marital_status_Never-married  \\\n",
              "count                                   2164                          2164   \n",
              "unique                                     2                             2   \n",
              "top                                        0                             0   \n",
              "freq                                    2147                          1909   \n",
              "\n",
              "        marital_status_Separated  marital_status_Widowed  \\\n",
              "count                       2164                    2164   \n",
              "unique                         2                       2   \n",
              "top                            0                       0   \n",
              "freq                        2132                    2126   \n",
              "\n",
              "        race_Asian-Pac-Islander  race_Black  race_Other  race_White  \\\n",
              "count                      2164        2164        2164        2164   \n",
              "unique                        2           2           2           2   \n",
              "top                           0           0           0           1   \n",
              "freq                       2050        2013        2154        1873   \n",
              "\n",
              "        workclass_Local-gov  workclass_Private  workclass_Self-emp-inc  \\\n",
              "count                  2164               2164                    2164   \n",
              "unique                    2                  2                       2   \n",
              "top                       0                  1                       0   \n",
              "freq                   1948               1266                    2002   \n",
              "\n",
              "        workclass_Self-emp-not-inc  workclass_State-gov  \\\n",
              "count                         2164                 2164   \n",
              "unique                           2                    2   \n",
              "top                              0                    0   \n",
              "freq                          1865                 2044   \n",
              "\n",
              "        workclass_Without-pay  true_label  predict_label  \n",
              "count                    2164        2164           2164  \n",
              "unique                      1           2              2  \n",
              "top                         0           1              0  \n",
              "freq                     2164        1224           1224  "
            ]
          },
          "metadata": {
            "tags": []
          },
          "execution_count": 639
        }
      ]
    },
    {
      "cell_type": "code",
      "metadata": {
        "colab": {
          "base_uri": "https://localhost:8080/"
        },
        "id": "3j57W1HYDTne",
        "outputId": "eb3314d8-b36a-4f71-b97c-6e3e9c84e881"
      },
      "source": [
        "from sklearn.svm import SVC\n",
        "from sklearn.preprocessing import MinMaxScaler\n",
        "\n",
        "x_train, x_test, y_train , y_test = train_test_split(MinMaxScaler().fit_transform(X = X) , Y, test_size = 0.3)\n",
        "svc = SVC()\n",
        "svc.fit(x_train, y_train)\n",
        "\n",
        "y_predict = svc.predict(x_test)\n",
        "report = classification_report(y_test, y_predict)\n",
        "print(report)"
      ],
      "execution_count": null,
      "outputs": [
        {
          "output_type": "stream",
          "text": [
            "              precision    recall  f1-score   support\n",
            "\n",
            "           0       0.79      0.93      0.86      5993\n",
            "           1       0.60      0.29      0.39      2085\n",
            "\n",
            "    accuracy                           0.77      8078\n",
            "   macro avg       0.70      0.61      0.62      8078\n",
            "weighted avg       0.74      0.77      0.74      8078\n",
            "\n"
          ],
          "name": "stdout"
        }
      ]
    },
    {
      "cell_type": "markdown",
      "metadata": {
        "id": "NgJUi1JTLsAm"
      },
      "source": [
        "# Bước 5 + 6 :"
      ]
    },
    {
      "cell_type": "code",
      "metadata": {
        "id": "-P5W0udZL71w"
      },
      "source": [
        "df = pd.read_csv(url)\n",
        "df = df.drop([\"X\", \"Unnamed: 0\"], axis=1)\n",
        "df.columns = [\"age\"\t,\"workclass\"\t,\"education\"\t,\"educational_num\",\t\"marital_status\",\t\"race\",\t\"gender\",\t\"hours_per_week\",\t\"income\"]\n",
        "df = df.drop_duplicates().reindex()\n",
        "df.sample()"
      ],
      "execution_count": null,
      "outputs": []
    },
    {
      "cell_type": "code",
      "metadata": {
        "id": "HIn8ULfqL0KJ"
      },
      "source": [
        "sns.countplot(x = \"income\", data = df);"
      ],
      "execution_count": null,
      "outputs": []
    },
    {
      "cell_type": "code",
      "metadata": {
        "id": "B_NOVAFrLq1H"
      },
      "source": [
        ""
      ],
      "execution_count": null,
      "outputs": []
    },
    {
      "cell_type": "markdown",
      "metadata": {
        "id": "OeZcWt3KT5ZT"
      },
      "source": [
        "**Nháp**"
      ]
    },
    {
      "cell_type": "code",
      "metadata": {
        "colab": {
          "base_uri": "https://localhost:8080/"
        },
        "id": "u1aJf_dkMULe",
        "outputId": "f983d385-58d5-48de-d5a5-d1e6c84ccf15"
      },
      "source": [
        "data = df.copy()\n",
        "data[\"income\"].unique()\n"
      ],
      "execution_count": null,
      "outputs": [
        {
          "output_type": "execute_result",
          "data": {
            "text/plain": [
              "array(['<=50K', '>50K'], dtype=object)"
            ]
          },
          "metadata": {
            "tags": []
          },
          "execution_count": 80
        }
      ]
    },
    {
      "cell_type": "code",
      "metadata": {
        "colab": {
          "base_uri": "https://localhost:8080/",
          "height": 414
        },
        "id": "ewjwli3dOpWN",
        "outputId": "0d85bba3-c537-4603-d679-b06cf77109bd"
      },
      "source": [
        "data.loc[ data.income == \">50K\", \"income\"] = 0\n",
        "data.loc[ data.income == \"<=50K\", \"income\"] = 1\n",
        "data"
      ],
      "execution_count": null,
      "outputs": [
        {
          "output_type": "execute_result",
          "data": {
            "text/html": [
              "<div>\n",
              "<style scoped>\n",
              "    .dataframe tbody tr th:only-of-type {\n",
              "        vertical-align: middle;\n",
              "    }\n",
              "\n",
              "    .dataframe tbody tr th {\n",
              "        vertical-align: top;\n",
              "    }\n",
              "\n",
              "    .dataframe thead th {\n",
              "        text-align: right;\n",
              "    }\n",
              "</style>\n",
              "<table border=\"1\" class=\"dataframe\">\n",
              "  <thead>\n",
              "    <tr style=\"text-align: right;\">\n",
              "      <th></th>\n",
              "      <th>age</th>\n",
              "      <th>workclass</th>\n",
              "      <th>education</th>\n",
              "      <th>educational.num</th>\n",
              "      <th>marital.status</th>\n",
              "      <th>race</th>\n",
              "      <th>gender</th>\n",
              "      <th>hours.per.week</th>\n",
              "      <th>income</th>\n",
              "    </tr>\n",
              "  </thead>\n",
              "  <tbody>\n",
              "    <tr>\n",
              "      <th>0</th>\n",
              "      <td>25</td>\n",
              "      <td>Private</td>\n",
              "      <td>11th</td>\n",
              "      <td>7</td>\n",
              "      <td>Never-married</td>\n",
              "      <td>Black</td>\n",
              "      <td>Male</td>\n",
              "      <td>40</td>\n",
              "      <td>1</td>\n",
              "    </tr>\n",
              "    <tr>\n",
              "      <th>1</th>\n",
              "      <td>38</td>\n",
              "      <td>Private</td>\n",
              "      <td>HS-grad</td>\n",
              "      <td>9</td>\n",
              "      <td>Married-civ-spouse</td>\n",
              "      <td>White</td>\n",
              "      <td>Male</td>\n",
              "      <td>50</td>\n",
              "      <td>1</td>\n",
              "    </tr>\n",
              "    <tr>\n",
              "      <th>2</th>\n",
              "      <td>28</td>\n",
              "      <td>Local-gov</td>\n",
              "      <td>Assoc-acdm</td>\n",
              "      <td>12</td>\n",
              "      <td>Married-civ-spouse</td>\n",
              "      <td>White</td>\n",
              "      <td>Male</td>\n",
              "      <td>40</td>\n",
              "      <td>0</td>\n",
              "    </tr>\n",
              "    <tr>\n",
              "      <th>3</th>\n",
              "      <td>44</td>\n",
              "      <td>Private</td>\n",
              "      <td>Some-college</td>\n",
              "      <td>10</td>\n",
              "      <td>Married-civ-spouse</td>\n",
              "      <td>Black</td>\n",
              "      <td>Male</td>\n",
              "      <td>40</td>\n",
              "      <td>0</td>\n",
              "    </tr>\n",
              "    <tr>\n",
              "      <th>4</th>\n",
              "      <td>34</td>\n",
              "      <td>Private</td>\n",
              "      <td>10th</td>\n",
              "      <td>6</td>\n",
              "      <td>Never-married</td>\n",
              "      <td>White</td>\n",
              "      <td>Male</td>\n",
              "      <td>30</td>\n",
              "      <td>1</td>\n",
              "    </tr>\n",
              "    <tr>\n",
              "      <th>...</th>\n",
              "      <td>...</td>\n",
              "      <td>...</td>\n",
              "      <td>...</td>\n",
              "      <td>...</td>\n",
              "      <td>...</td>\n",
              "      <td>...</td>\n",
              "      <td>...</td>\n",
              "      <td>...</td>\n",
              "      <td>...</td>\n",
              "    </tr>\n",
              "    <tr>\n",
              "      <th>46028</th>\n",
              "      <td>27</td>\n",
              "      <td>Private</td>\n",
              "      <td>Assoc-acdm</td>\n",
              "      <td>12</td>\n",
              "      <td>Married-civ-spouse</td>\n",
              "      <td>White</td>\n",
              "      <td>Female</td>\n",
              "      <td>38</td>\n",
              "      <td>1</td>\n",
              "    </tr>\n",
              "    <tr>\n",
              "      <th>46029</th>\n",
              "      <td>40</td>\n",
              "      <td>Private</td>\n",
              "      <td>HS-grad</td>\n",
              "      <td>9</td>\n",
              "      <td>Married-civ-spouse</td>\n",
              "      <td>White</td>\n",
              "      <td>Male</td>\n",
              "      <td>40</td>\n",
              "      <td>0</td>\n",
              "    </tr>\n",
              "    <tr>\n",
              "      <th>46030</th>\n",
              "      <td>58</td>\n",
              "      <td>Private</td>\n",
              "      <td>HS-grad</td>\n",
              "      <td>9</td>\n",
              "      <td>Widowed</td>\n",
              "      <td>White</td>\n",
              "      <td>Female</td>\n",
              "      <td>40</td>\n",
              "      <td>1</td>\n",
              "    </tr>\n",
              "    <tr>\n",
              "      <th>46031</th>\n",
              "      <td>22</td>\n",
              "      <td>Private</td>\n",
              "      <td>HS-grad</td>\n",
              "      <td>9</td>\n",
              "      <td>Never-married</td>\n",
              "      <td>White</td>\n",
              "      <td>Male</td>\n",
              "      <td>20</td>\n",
              "      <td>1</td>\n",
              "    </tr>\n",
              "    <tr>\n",
              "      <th>46032</th>\n",
              "      <td>52</td>\n",
              "      <td>Self-emp-inc</td>\n",
              "      <td>HS-grad</td>\n",
              "      <td>9</td>\n",
              "      <td>Married-civ-spouse</td>\n",
              "      <td>White</td>\n",
              "      <td>Female</td>\n",
              "      <td>40</td>\n",
              "      <td>0</td>\n",
              "    </tr>\n",
              "  </tbody>\n",
              "</table>\n",
              "<p>46033 rows × 9 columns</p>\n",
              "</div>"
            ],
            "text/plain": [
              "       age     workclass     education  ...  gender hours.per.week income\n",
              "0       25       Private          11th  ...    Male             40      1\n",
              "1       38       Private       HS-grad  ...    Male             50      1\n",
              "2       28     Local-gov    Assoc-acdm  ...    Male             40      0\n",
              "3       44       Private  Some-college  ...    Male             40      0\n",
              "4       34       Private          10th  ...    Male             30      1\n",
              "...    ...           ...           ...  ...     ...            ...    ...\n",
              "46028   27       Private    Assoc-acdm  ...  Female             38      1\n",
              "46029   40       Private       HS-grad  ...    Male             40      0\n",
              "46030   58       Private       HS-grad  ...  Female             40      1\n",
              "46031   22       Private       HS-grad  ...    Male             20      1\n",
              "46032   52  Self-emp-inc       HS-grad  ...  Female             40      0\n",
              "\n",
              "[46033 rows x 9 columns]"
            ]
          },
          "metadata": {
            "tags": []
          },
          "execution_count": 81
        }
      ]
    },
    {
      "cell_type": "code",
      "metadata": {
        "colab": {
          "base_uri": "https://localhost:8080/"
        },
        "id": "1rRW2fZXOuop",
        "outputId": "b3fadec7-5886-44bd-ce9e-740c75f00e64"
      },
      "source": [
        "data.income = data.income.astype(\"int64\")\n",
        "data.info()"
      ],
      "execution_count": null,
      "outputs": [
        {
          "output_type": "stream",
          "text": [
            "<class 'pandas.core.frame.DataFrame'>\n",
            "RangeIndex: 46033 entries, 0 to 46032\n",
            "Data columns (total 9 columns):\n",
            " #   Column           Non-Null Count  Dtype \n",
            "---  ------           --------------  ----- \n",
            " 0   age              46033 non-null  int64 \n",
            " 1   workclass        46033 non-null  object\n",
            " 2   education        46033 non-null  object\n",
            " 3   educational.num  46033 non-null  int64 \n",
            " 4   marital.status   46033 non-null  object\n",
            " 5   race             46033 non-null  object\n",
            " 6   gender           46033 non-null  object\n",
            " 7   hours.per.week   46033 non-null  int64 \n",
            " 8   income           46033 non-null  int64 \n",
            "dtypes: int64(4), object(5)\n",
            "memory usage: 3.2+ MB\n"
          ],
          "name": "stdout"
        }
      ]
    },
    {
      "cell_type": "code",
      "metadata": {
        "colab": {
          "base_uri": "https://localhost:8080/"
        },
        "id": "sUE4bZw2QnOe",
        "outputId": "10c459da-7a2f-4571-ea84-3f24119be109"
      },
      "source": [
        "print(data.corr())"
      ],
      "execution_count": null,
      "outputs": [
        {
          "output_type": "stream",
          "text": [
            "                      age  educational.num  hours.per.week    income\n",
            "age              1.000000         0.037566        0.102185 -0.237338\n",
            "educational.num  0.037566         1.000000        0.145151 -0.332293\n",
            "hours.per.week   0.102185         0.145151        1.000000 -0.226795\n",
            "income          -0.237338        -0.332293       -0.226795  1.000000\n"
          ],
          "name": "stdout"
        }
      ]
    },
    {
      "cell_type": "code",
      "metadata": {
        "colab": {
          "base_uri": "https://localhost:8080/"
        },
        "id": "Hkn1Y8HYQ5_I",
        "outputId": "72798883-8f8d-4967-b89a-90ee42f714cd"
      },
      "source": [
        "from scipy import stats\n",
        "import numpy as np\n",
        "\n",
        "a = data.age.values\n",
        "b = data.income.values\n",
        "\n",
        "print(np.corrcoef(a, b))"
      ],
      "execution_count": null,
      "outputs": [
        {
          "output_type": "stream",
          "text": [
            "[[1.         0.23733761]\n",
            " [0.23733761 1.        ]]\n"
          ],
          "name": "stdout"
        }
      ]
    }
  ]
}