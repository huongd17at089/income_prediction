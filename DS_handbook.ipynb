{
  "nbformat": 4,
  "nbformat_minor": 0,
  "metadata": {
    "colab": {
      "name": "DS_handbook.ipynb",
      "provenance": [],
      "authorship_tag": "ABX9TyOLr3Ml7OixPqKtsjKUJKu7",
      "include_colab_link": true
    },
    "kernelspec": {
      "name": "python3",
      "display_name": "Python 3"
    },
    "language_info": {
      "name": "python"
    }
  },
  "cells": [
    {
      "cell_type": "markdown",
      "metadata": {
        "id": "view-in-github",
        "colab_type": "text"
      },
      "source": [
        "<a href=\"https://colab.research.google.com/github/huongd17at089/income_prediction/blob/master/DS_handbook.ipynb\" target=\"_parent\"><img src=\"https://colab.research.google.com/assets/colab-badge.svg\" alt=\"Open In Colab\"/></a>"
      ]
    },
    {
      "cell_type": "markdown",
      "metadata": {
        "id": "GjgZuI5ybCko"
      },
      "source": [
        "**mAccessing Documentation with ? and ??**"
      ]
    },
    {
      "cell_type": "code",
      "metadata": {
        "colab": {
          "base_uri": "https://localhost:8080/"
        },
        "id": "i5mkMMJFapdJ",
        "outputId": "d6070b19-cfd2-4fe1-bc4d-7be84c39395a"
      },
      "source": [
        "help(len)"
      ],
      "execution_count": 1,
      "outputs": [
        {
          "output_type": "stream",
          "text": [
            "Help on built-in function len in module builtins:\n",
            "\n",
            "len(obj, /)\n",
            "    Return the number of items in a container.\n",
            "\n"
          ],
          "name": "stdout"
        }
      ]
    },
    {
      "cell_type": "code",
      "metadata": {
        "id": "wMIFbH0vbVtJ"
      },
      "source": [
        "len?"
      ],
      "execution_count": 2,
      "outputs": []
    },
    {
      "cell_type": "code",
      "metadata": {
        "id": "z4lp71HFbXS0"
      },
      "source": [
        "len??"
      ],
      "execution_count": 3,
      "outputs": []
    },
    {
      "cell_type": "code",
      "metadata": {
        "id": "n5hkPe7YbldX"
      },
      "source": [
        "L = [1,2,3]\n",
        "L.insert??"
      ],
      "execution_count": 4,
      "outputs": []
    },
    {
      "cell_type": "code",
      "metadata": {
        "id": "eiXv_ocabves"
      },
      "source": [
        "L?"
      ],
      "execution_count": 5,
      "outputs": []
    },
    {
      "cell_type": "code",
      "metadata": {
        "id": "x-enM-Dlbz_p"
      },
      "source": [
        "def square(a):\n",
        "  \"\"\"Return the square of a.\"\"\"\n",
        "  return a ** 2\n",
        "square??"
      ],
      "execution_count": 6,
      "outputs": []
    }
  ]
}